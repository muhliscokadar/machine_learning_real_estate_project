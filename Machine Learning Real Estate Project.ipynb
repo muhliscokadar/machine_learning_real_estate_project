{
 "cells": [
  {
   "cell_type": "markdown",
   "metadata": {},
   "source": [
    "# Machine Learning Real Estate Project"
   ]
  },
  {
   "cell_type": "code",
   "execution_count": 157,
   "metadata": {},
   "outputs": [],
   "source": [
    "import pandas as pd\n",
    "import numpy as np\n",
    "import matplotlib.pyplot as plt\n",
    "from sklearn.linear_model import LinearRegression\n",
    "from sklearn.preprocessing import PolynomialFeatures\n",
    "from sklearn.metrics import r2_score\n",
    "from sklearn.tree import DecisionTreeRegressor\n",
    "from sklearn.ensemble import RandomForestRegressor\n",
    "from sklearn.model_selection import train_test_split"
   ]
  },
  {
   "cell_type": "code",
   "execution_count": 158,
   "metadata": {},
   "outputs": [
    {
     "data": {
      "text/html": [
       "<div>\n",
       "<style scoped>\n",
       "    .dataframe tbody tr th:only-of-type {\n",
       "        vertical-align: middle;\n",
       "    }\n",
       "\n",
       "    .dataframe tbody tr th {\n",
       "        vertical-align: top;\n",
       "    }\n",
       "\n",
       "    .dataframe thead th {\n",
       "        text-align: right;\n",
       "    }\n",
       "</style>\n",
       "<table border=\"1\" class=\"dataframe\">\n",
       "  <thead>\n",
       "    <tr style=\"text-align: right;\">\n",
       "      <th></th>\n",
       "      <th>no</th>\n",
       "      <th>date</th>\n",
       "      <th>age</th>\n",
       "      <th>dist_mrt</th>\n",
       "      <th>n_stores</th>\n",
       "      <th>lat</th>\n",
       "      <th>lon</th>\n",
       "      <th>price</th>\n",
       "    </tr>\n",
       "  </thead>\n",
       "  <tbody>\n",
       "    <tr>\n",
       "      <th>0</th>\n",
       "      <td>1</td>\n",
       "      <td>2012.916667</td>\n",
       "      <td>32.0</td>\n",
       "      <td>84.87882</td>\n",
       "      <td>10</td>\n",
       "      <td>24.98298</td>\n",
       "      <td>121.54024</td>\n",
       "      <td>37.9</td>\n",
       "    </tr>\n",
       "    <tr>\n",
       "      <th>1</th>\n",
       "      <td>2</td>\n",
       "      <td>2012.916667</td>\n",
       "      <td>19.5</td>\n",
       "      <td>306.59470</td>\n",
       "      <td>9</td>\n",
       "      <td>24.98034</td>\n",
       "      <td>121.53951</td>\n",
       "      <td>42.2</td>\n",
       "    </tr>\n",
       "    <tr>\n",
       "      <th>2</th>\n",
       "      <td>3</td>\n",
       "      <td>2013.583333</td>\n",
       "      <td>13.3</td>\n",
       "      <td>561.98450</td>\n",
       "      <td>5</td>\n",
       "      <td>24.98746</td>\n",
       "      <td>121.54391</td>\n",
       "      <td>47.3</td>\n",
       "    </tr>\n",
       "    <tr>\n",
       "      <th>3</th>\n",
       "      <td>4</td>\n",
       "      <td>2013.500000</td>\n",
       "      <td>13.3</td>\n",
       "      <td>561.98450</td>\n",
       "      <td>5</td>\n",
       "      <td>24.98746</td>\n",
       "      <td>121.54391</td>\n",
       "      <td>54.8</td>\n",
       "    </tr>\n",
       "    <tr>\n",
       "      <th>4</th>\n",
       "      <td>5</td>\n",
       "      <td>2012.833333</td>\n",
       "      <td>5.0</td>\n",
       "      <td>390.56840</td>\n",
       "      <td>5</td>\n",
       "      <td>24.97937</td>\n",
       "      <td>121.54245</td>\n",
       "      <td>43.1</td>\n",
       "    </tr>\n",
       "  </tbody>\n",
       "</table>\n",
       "</div>"
      ],
      "text/plain": [
       "   no         date   age   dist_mrt  n_stores       lat        lon  price\n",
       "0   1  2012.916667  32.0   84.87882        10  24.98298  121.54024   37.9\n",
       "1   2  2012.916667  19.5  306.59470         9  24.98034  121.53951   42.2\n",
       "2   3  2013.583333  13.3  561.98450         5  24.98746  121.54391   47.3\n",
       "3   4  2013.500000  13.3  561.98450         5  24.98746  121.54391   54.8\n",
       "4   5  2012.833333   5.0  390.56840         5  24.97937  121.54245   43.1"
      ]
     },
     "execution_count": 158,
     "metadata": {},
     "output_type": "execute_result"
    }
   ],
   "source": [
    "df=pd.read_csv(\"data.csv\")\n",
    "df.head()"
   ]
  },
  {
   "cell_type": "code",
   "execution_count": 159,
   "metadata": {},
   "outputs": [
    {
     "name": "stdout",
     "output_type": "stream",
     "text": [
      "Index(['no', 'date', 'age', 'dist_mrt', 'n_stores', 'lat', 'lon', 'price'], dtype='object')\n"
     ]
    }
   ],
   "source": [
    "print (df.columns)"
   ]
  },
  {
   "cell_type": "code",
   "execution_count": 160,
   "metadata": {},
   "outputs": [
    {
     "data": {
      "text/html": [
       "<div>\n",
       "<style scoped>\n",
       "    .dataframe tbody tr th:only-of-type {\n",
       "        vertical-align: middle;\n",
       "    }\n",
       "\n",
       "    .dataframe tbody tr th {\n",
       "        vertical-align: top;\n",
       "    }\n",
       "\n",
       "    .dataframe thead th {\n",
       "        text-align: right;\n",
       "    }\n",
       "</style>\n",
       "<table border=\"1\" class=\"dataframe\">\n",
       "  <thead>\n",
       "    <tr style=\"text-align: right;\">\n",
       "      <th></th>\n",
       "      <th>date</th>\n",
       "      <th>age</th>\n",
       "      <th>dist_mrt</th>\n",
       "      <th>n_stores</th>\n",
       "      <th>lat</th>\n",
       "      <th>lon</th>\n",
       "    </tr>\n",
       "  </thead>\n",
       "  <tbody>\n",
       "    <tr>\n",
       "      <th>0</th>\n",
       "      <td>2012.916667</td>\n",
       "      <td>32.0</td>\n",
       "      <td>84.87882</td>\n",
       "      <td>10</td>\n",
       "      <td>24.98298</td>\n",
       "      <td>121.54024</td>\n",
       "    </tr>\n",
       "    <tr>\n",
       "      <th>1</th>\n",
       "      <td>2012.916667</td>\n",
       "      <td>19.5</td>\n",
       "      <td>306.59470</td>\n",
       "      <td>9</td>\n",
       "      <td>24.98034</td>\n",
       "      <td>121.53951</td>\n",
       "    </tr>\n",
       "    <tr>\n",
       "      <th>2</th>\n",
       "      <td>2013.583333</td>\n",
       "      <td>13.3</td>\n",
       "      <td>561.98450</td>\n",
       "      <td>5</td>\n",
       "      <td>24.98746</td>\n",
       "      <td>121.54391</td>\n",
       "    </tr>\n",
       "    <tr>\n",
       "      <th>3</th>\n",
       "      <td>2013.500000</td>\n",
       "      <td>13.3</td>\n",
       "      <td>561.98450</td>\n",
       "      <td>5</td>\n",
       "      <td>24.98746</td>\n",
       "      <td>121.54391</td>\n",
       "    </tr>\n",
       "    <tr>\n",
       "      <th>4</th>\n",
       "      <td>2012.833333</td>\n",
       "      <td>5.0</td>\n",
       "      <td>390.56840</td>\n",
       "      <td>5</td>\n",
       "      <td>24.97937</td>\n",
       "      <td>121.54245</td>\n",
       "    </tr>\n",
       "  </tbody>\n",
       "</table>\n",
       "</div>"
      ],
      "text/plain": [
       "          date   age   dist_mrt  n_stores       lat        lon\n",
       "0  2012.916667  32.0   84.87882        10  24.98298  121.54024\n",
       "1  2012.916667  19.5  306.59470         9  24.98034  121.53951\n",
       "2  2013.583333  13.3  561.98450         5  24.98746  121.54391\n",
       "3  2013.500000  13.3  561.98450         5  24.98746  121.54391\n",
       "4  2012.833333   5.0  390.56840         5  24.97937  121.54245"
      ]
     },
     "execution_count": 160,
     "metadata": {},
     "output_type": "execute_result"
    }
   ],
   "source": [
    "data= df.iloc[:,1:-1]\n",
    "data.head()"
   ]
  },
  {
   "cell_type": "code",
   "execution_count": 161,
   "metadata": {},
   "outputs": [
    {
     "data": {
      "text/plain": [
       "(414,)"
      ]
     },
     "execution_count": 161,
     "metadata": {},
     "output_type": "execute_result"
    }
   ],
   "source": [
    "price = df[\"price\"]\n",
    "price.shape"
   ]
  },
  {
   "cell_type": "code",
   "execution_count": 162,
   "metadata": {},
   "outputs": [
    {
     "name": "stdout",
     "output_type": "stream",
     "text": [
      "            date   age    dist_mrt  n_stores       lat        lon\n",
      "7    2013.416667  20.3   287.60250         6  24.98042  121.54228\n",
      "194  2013.500000  15.2  3771.89500         0  24.93363  121.51158\n",
      "19   2012.666667   1.5    23.38284         7  24.96772  121.54102\n",
      "176  2012.833333  13.9  4573.77900         0  24.94867  121.49507\n",
      "367  2012.833333  15.0  1828.31900         2  24.96464  121.51531\n",
      "304  2013.416667  20.0  1626.08300         3  24.96622  121.51668\n",
      "198  2013.083333  34.0   157.60520         7  24.96628  121.54196\n",
      "145  2012.916667   2.1   451.24380         5  24.97563  121.54694\n",
      "265  2012.833333  15.7   815.93140         4  24.97886  121.53464\n",
      "109  2013.583333   4.0  2147.37600         3  24.96299  121.51284\n",
      "202  2012.916667  38.3   642.69850         3  24.97559  121.53713\n",
      "196  2013.000000  22.8   707.90670         2  24.98100  121.54713\n",
      "396  2012.666667  37.1   918.63570         1  24.97198  121.55063\n",
      "239  2013.500000  18.1   837.72330         0  24.96334  121.54767\n",
      "83   2012.916667  25.3  2707.39200         3  24.96056  121.50831\n",
      "168  2013.083333  27.6   515.11220         5  24.96299  121.54320\n",
      "323  2013.416667  28.6   197.13380         6  24.97631  121.54436\n",
      "74   2012.916667   6.8   379.55750        10  24.98343  121.53762\n",
      "383  2012.666667  29.1   506.11440         4  24.97845  121.53889\n",
      "119  2013.500000  16.6   289.32480         5  24.98203  121.54348\n",
      "209  2012.833333  34.8   175.62940         8  24.97347  121.54271\n",
      "219  2012.750000  29.3   529.77710         8  24.98102  121.53655\n",
      "153  2013.250000   6.5   376.17090         6  24.95418  121.53713\n",
      "177  2013.083333  33.0   181.07660         9  24.97697  121.54262\n",
      "387  2013.250000  16.2  2103.55500         3  24.96042  121.51462\n",
      "371  2013.500000   4.1   312.89630         5  24.95591  121.53956\n",
      "36   2012.916667  14.7  1935.00900         2  24.96386  121.51458\n",
      "139  2012.666667  12.9   492.23130         5  24.96515  121.53737\n",
      "338  2012.916667  31.5   258.18600         9  24.96867  121.54331\n",
      "172  2013.583333   6.6    90.45606         9  24.97433  121.54310\n",
      "..           ...   ...         ...       ...       ...        ...\n",
      "235  2012.750000  12.9   250.63100         7  24.96606  121.54297\n",
      "252  2012.833333   5.9    90.45606         9  24.97433  121.54310\n",
      "21   2013.416667  10.5   279.17260         7  24.97528  121.54541\n",
      "313  2013.333333   8.3   104.81010         5  24.96674  121.54067\n",
      "160  2012.916667   3.5    49.66105         8  24.95836  121.53756\n",
      "276  2013.000000  19.1   461.10160         5  24.95425  121.53990\n",
      "191  2013.166667  13.2   750.07040         2  24.97371  121.54951\n",
      "385  2013.000000  18.3    82.88643        10  24.98300  121.54026\n",
      "293  2012.666667  12.6   383.28050         7  24.96735  121.54464\n",
      "343  2013.000000  33.5   563.28540         8  24.98223  121.53597\n",
      "257  2013.250000  17.3   444.13340         1  24.97501  121.52730\n",
      "308  2013.416667  16.4   289.32480         5  24.98203  121.54348\n",
      "149  2012.666667  34.9   179.45380         8  24.97349  121.54245\n",
      "130  2013.250000  29.6   535.52700         8  24.98092  121.53653\n",
      "151  2013.500000   4.9   387.77210         9  24.98118  121.53788\n",
      "359  2013.500000   5.6  2408.99300         0  24.95505  121.55964\n",
      "99   2013.416667   6.4    90.45606         9  24.97433  121.54310\n",
      "372  2013.000000  33.9   157.60520         7  24.96628  121.54196\n",
      "87   2013.583333  16.9  4066.58700         0  24.94297  121.50342\n",
      "330  2013.083333  32.0  1156.77700         0  24.94935  121.53046\n",
      "214  2013.583333  18.1  1783.18000         3  24.96731  121.51486\n",
      "121  2013.500000  13.6   492.23130         5  24.96515  121.53737\n",
      "413  2013.500000   6.5    90.45606         9  24.97433  121.54310\n",
      "20   2013.416667   4.5  2275.87700         3  24.96314  121.51151\n",
      "188  2012.916667  34.8   190.03920         8  24.97707  121.54312\n",
      "71   2013.083333  35.5   640.73910         3  24.97563  121.53715\n",
      "106  2013.083333  17.2   189.51810         8  24.97707  121.54308\n",
      "270  2013.333333  10.8   252.58220         1  24.97460  121.53046\n",
      "348  2012.833333   4.6   259.66070         6  24.97585  121.54516\n",
      "102  2013.083333   1.1   193.58450         6  24.96571  121.54089\n",
      "\n",
      "[289 rows x 6 columns]\n"
     ]
    }
   ],
   "source": [
    "X_train, X_test, y_train, y_test = train_test_split(\n",
    "...     data, price, test_size=0.30, random_state=42)\n",
    "y_train.shape\n",
    "print(X_train)"
   ]
  },
  {
   "cell_type": "code",
   "execution_count": 163,
   "metadata": {},
   "outputs": [
    {
     "name": "stdout",
     "output_type": "stream",
     "text": [
      "38.44186851211073\n",
      "13.021642241849854\n"
     ]
    }
   ],
   "source": [
    "regression = DecisionTreeRegressor()\n",
    "meany=np.mean(y_train)\n",
    "print(meany)\n",
    "print((np.mean((meany-y_test.values)**2))**0.5)"
   ]
  },
  {
   "cell_type": "code",
   "execution_count": 164,
   "metadata": {},
   "outputs": [
    {
     "data": {
      "text/plain": [
       "DecisionTreeRegressor(criterion='mse', max_depth=None, max_features=None,\n",
       "           max_leaf_nodes=None, min_impurity_decrease=0.0,\n",
       "           min_impurity_split=None, min_samples_leaf=1,\n",
       "           min_samples_split=2, min_weight_fraction_leaf=0.0,\n",
       "           presort=False, random_state=None, splitter='best')"
      ]
     },
     "execution_count": 164,
     "metadata": {},
     "output_type": "execute_result"
    }
   ],
   "source": [
    "regression.fit(X_train,y_train)"
   ]
  },
  {
   "cell_type": "code",
   "execution_count": 165,
   "metadata": {},
   "outputs": [
    {
     "name": "stdout",
     "output_type": "stream",
     "text": [
      "[48.6  38.9  43.5  29.3  27.7  36.5  42.1  51.7  12.8  58.1  29.4  33.4\n",
      " 48.   13.8  39.6  23.   41.4  55.2  21.8  40.6  14.4  20.9  43.5  36.3\n",
      " 11.6  33.1  12.8  43.1  60.7  35.3  25.3  21.7  42.5  26.6  41.2  39.7\n",
      " 52.7  15.9  36.5  60.7  36.5  44.2  39.7  26.5  39.3  47.9  42.5  23.8\n",
      " 47.7  39.7  48.6  55.   42.3  37.4  37.4  15.9  38.1  22.8  27.7  51.7\n",
      " 25.7  21.4  15.9  13.2  15.   20.9  20.8  44.2  38.4  25.3  29.3  61.5\n",
      " 51.8  36.9  31.5  26.5  46.4  26.9  40.2  31.1  46.4  42.1  20.8  67.7\n",
      " 25.6  27.7  38.1  41.6  28.8  34.   20.5  37.5  43.5  45.9  40.6  32.4\n",
      " 23.1  41.4  25.7  53.9  25.6  30.9  40.6  23.8  56.15 53.5  23.5  17.7\n",
      " 37.4  46.4  36.2  29.3  43.2  41.6  22.   55.2  51.7  39.7  25.3  30.1\n",
      " 39.6  29.3  69.7  54.4  37.8 ]\n",
      "[45.1 42.3 52.2 37.3 22.8 36.3 53.  51.4 16.1 59.  30.6 30.7 35.6 13.7\n",
      " 62.9 30.5 41.9 54.4 29.5 43.7 12.2 22.1 49.5 47.4 18.6 28.5 14.7 45.4\n",
      " 41.  35.1 22.1 28.9 30.5 26.5 49.3 37.  56.3 15.4 48.5 63.3 50.5 42.2\n",
      " 37.9 37.5 40.5 57.4 26.5 21.8 49.7 47.1 49.  60.7 33.1 41.  36.5 20.\n",
      " 34.7 30.6 25.6 46.2 27.7 27.  15.6 15.5 11.2 23.7 24.6 42.  29.8 28.9\n",
      " 48.1 36.8 53.5 51.6 38.8 37.4 40.6 37.2 25.  23.5 35.6 46.1 26.2 42.7\n",
      " 23.9 32.1 38.3 40.8 30.8 34.6 29.3 35.5 34.1 54.8 42.3 30.  21.3 38.6\n",
      " 28.1 55.  24.4 28.5  7.6 22.3 62.1 50.  31.3 25.7 37.5 39.  34.1 32.9\n",
      " 49.3 57.1 24.7 55.3 55.  53.3 23.1 29.5 40.1 45.1 70.1 50.7 37. ]\n",
      "8.173260059486665\n"
     ]
    }
   ],
   "source": [
    "predictions=regression.predict(X_test)\n",
    "print(predictions)\n",
    "print(y_test.values)\n",
    "print((np.mean((predictions-y_test.values)**2))**0.5) #root mean squared error, farklarin karelerinin ortalamasinin koku = standard deviation gibi birsey"
   ]
  },
  {
   "cell_type": "code",
   "execution_count": 166,
   "metadata": {},
   "outputs": [
    {
     "name": "stdout",
     "output_type": "stream",
     "text": [
      "[48.96  39.155 45.45  38.4   26.845 37.54  45.98  50.78  22.585 56.38\n",
      " 23.74  30.695 27.64  19.985 38.34  24.745 44.785 50.115 27.645 37.785\n",
      " 15.85  23.34  48.355 46.825 17.59  40.3   21.97  45.45  48.64  44.705\n",
      " 17.125 23.51  41.13  26.29  50.01  38.255 53.68  16.27  41.58  39.1\n",
      " 41.965 40.825 46.705 40.375 40.955 53.05  35.365 20.945 48.92  46.705\n",
      " 48.96  53.27  40.755 43.84  40.69  16.27  37.63  30.47  26.845 50.78\n",
      " 28.295 28.785 16.27  18.025 16.365 23.34  26.29  36.875 42.52  25.64\n",
      " 40.735 40.55  50.115 50.64  41.885 44.85  47.8   45.315 41.51  29.925\n",
      " 38.34  45.98  27.19  47.805 26.32  28.295 39.205 39.265 28.895 38.215\n",
      " 23.525 41.885 36.925 46.81  40.335 37.585 25.175 40.195 27.845 50.26\n",
      " 24.59  43.455 34.015 24.635 49.615 54.08  24.11  21.235 41.885 47.8\n",
      " 40.5   38.4   46.93  48.    23.095 49.035 50.78  43.38  26.27  28.04\n",
      " 42.555 23.525 63.485 51.86  39.935]\n",
      "[45.1 42.3 52.2 37.3 22.8 36.3 53.  51.4 16.1 59.  30.6 30.7 35.6 13.7\n",
      " 62.9 30.5 41.9 54.4 29.5 43.7 12.2 22.1 49.5 47.4 18.6 28.5 14.7 45.4\n",
      " 41.  35.1 22.1 28.9 30.5 26.5 49.3 37.  56.3 15.4 48.5 63.3 50.5 42.2\n",
      " 37.9 37.5 40.5 57.4 26.5 21.8 49.7 47.1 49.  60.7 33.1 41.  36.5 20.\n",
      " 34.7 30.6 25.6 46.2 27.7 27.  15.6 15.5 11.2 23.7 24.6 42.  29.8 28.9\n",
      " 48.1 36.8 53.5 51.6 38.8 37.4 40.6 37.2 25.  23.5 35.6 46.1 26.2 42.7\n",
      " 23.9 32.1 38.3 40.8 30.8 34.6 29.3 35.5 34.1 54.8 42.3 30.  21.3 38.6\n",
      " 28.1 55.  24.4 28.5  7.6 22.3 62.1 50.  31.3 25.7 37.5 39.  34.1 32.9\n",
      " 49.3 57.1 24.7 55.3 55.  53.3 23.1 29.5 40.1 45.1 70.1 50.7 37. ]\n",
      "6.8788919020435255\n",
      "7.303385516320496\n",
      "8.254716421537447\n",
      "7.303385516320496\n"
     ]
    }
   ],
   "source": [
    "from sklearn.neighbors import KNeighborsRegressor\n",
    "neigh = KNeighborsRegressor(n_neighbors=1)\n",
    "neigh2 = KNeighborsRegressor(n_neighbors=10)\n",
    "neigh.fit(X_train.iloc[:,:-2], y_train)   #Fit k-nn regressor using features other than latitude longtitude\n",
    "neigh2.fit(X_train.iloc[:,-2:], y_train)  #Fit k-nn regressor using latitude longtitude\n",
    "\n",
    "predictions1=neigh.predict(X_test.iloc[:,:-2])\n",
    "predictions2=neigh2.predict(X_test.iloc[:,-2:])\n",
    "predictions=(predictions1+predictions2)/2        #take average of the predictions\n",
    "print(predictions)\n",
    "print(y_test.values)\n",
    "print((np.mean((predictions-y_test.values)**2))**0.5) #root mean squared error calculation\n",
    "#take differences of the expected and the predicted values, square them, add them up, divide by the total number of examples, take square root\n",
    "#farklarin karelerinin ortalamasinin koku = standard deviation gibi birsey\n",
    "\n",
    "print((np.mean((predictions1-y_test.values)**2))**0.5) #root mean squared error of the first k-nn model\n",
    "print((np.mean((predictions2-y_test.values)**2))**0.5) #root mean squared error of the second k-nn model\n",
    "\n",
    "\n",
    "\n",
    "\n",
    "\n",
    "neigh3 = KNeighborsRegressor(n_neighbors=1)\n",
    "neigh3.fit(X_train, y_train)   #Fit k-nn regressor using features other than latitude longtitude\n",
    "predictions3=neigh3.predict(X_test)\n",
    "print((np.mean((predictions3-y_test.values)**2))**0.5) #root mean squared error calculation\n"
   ]
  },
  {
   "cell_type": "code",
   "execution_count": 167,
   "metadata": {},
   "outputs": [
    {
     "data": {
      "image/png": "[encoded data removed]",
      "text/plain": [
       "<Figure size 432x288 with 1 Axes>"
      ]
     },
     "metadata": {
      "needs_background": "light"
     },
     "output_type": "display_data"
    }
   ],
   "source": [
    "stores=X_test[\"n_stores\"].values\n",
    "plt.scatter(stores,predictions,color= \"blue\")\n",
    "plt.xlabel(\"Stores\")\n",
    "plt.ylabel(\"Price\")\n",
    "plt.title(\"Our Model\")\n",
    "plt.show()"
   ]
  },
  {
   "cell_type": "code",
   "execution_count": 168,
   "metadata": {},
   "outputs": [
    {
     "data": {
      "image/png": "[encoded data removed]",
      "text/plain": [
       "<Figure size 432x288 with 1 Axes>"
      ]
     },
     "metadata": {
      "needs_background": "light"
     },
     "output_type": "display_data"
    }
   ],
   "source": [
    "stores=X_test[\"n_stores\"].values\n",
    "plt.scatter(stores,y_test,color= \"blue\")\n",
    "plt.xlabel(\"Stores\")\n",
    "plt.ylabel(\"Price\")\n",
    "plt.title(\"Given data\")\n",
    "plt.show()"
   ]
  },
  {
   "cell_type": "code",
   "execution_count": null,
   "metadata": {},
   "outputs": [],
   "source": []
  },
  {
   "cell_type": "code",
   "execution_count": 169,
   "metadata": {},
   "outputs": [],
   "source": [
    "import pandas as pd\n",
    "import numpy as np\n",
    "from sklearn import linear_model\n",
    "from sklearn.model_selection import train_test_split\n",
    "from sklearn.metrics import mean_squared_error, r2_score\n",
    "import matplotlib.pyplot as plt"
   ]
  },
  {
   "cell_type": "code",
   "execution_count": 170,
   "metadata": {},
   "outputs": [],
   "source": [
    "houses = pd.read_csv(\"data.csv\")"
   ]
  },
  {
   "cell_type": "code",
   "execution_count": 171,
   "metadata": {
    "scrolled": true
   },
   "outputs": [
    {
     "data": {
      "text/html": [
       "<div>\n",
       "<style scoped>\n",
       "    .dataframe tbody tr th:only-of-type {\n",
       "        vertical-align: middle;\n",
       "    }\n",
       "\n",
       "    .dataframe tbody tr th {\n",
       "        vertical-align: top;\n",
       "    }\n",
       "\n",
       "    .dataframe thead th {\n",
       "        text-align: right;\n",
       "    }\n",
       "</style>\n",
       "<table border=\"1\" class=\"dataframe\">\n",
       "  <thead>\n",
       "    <tr style=\"text-align: right;\">\n",
       "      <th></th>\n",
       "      <th>no</th>\n",
       "      <th>date</th>\n",
       "      <th>age</th>\n",
       "      <th>dist_mrt</th>\n",
       "      <th>n_stores</th>\n",
       "      <th>lat</th>\n",
       "      <th>lon</th>\n",
       "      <th>price</th>\n",
       "    </tr>\n",
       "  </thead>\n",
       "  <tbody>\n",
       "    <tr>\n",
       "      <th>0</th>\n",
       "      <td>1</td>\n",
       "      <td>2012.916667</td>\n",
       "      <td>32.0</td>\n",
       "      <td>84.87882</td>\n",
       "      <td>10</td>\n",
       "      <td>24.98298</td>\n",
       "      <td>121.54024</td>\n",
       "      <td>37.9</td>\n",
       "    </tr>\n",
       "    <tr>\n",
       "      <th>1</th>\n",
       "      <td>2</td>\n",
       "      <td>2012.916667</td>\n",
       "      <td>19.5</td>\n",
       "      <td>306.59470</td>\n",
       "      <td>9</td>\n",
       "      <td>24.98034</td>\n",
       "      <td>121.53951</td>\n",
       "      <td>42.2</td>\n",
       "    </tr>\n",
       "    <tr>\n",
       "      <th>2</th>\n",
       "      <td>3</td>\n",
       "      <td>2013.583333</td>\n",
       "      <td>13.3</td>\n",
       "      <td>561.98450</td>\n",
       "      <td>5</td>\n",
       "      <td>24.98746</td>\n",
       "      <td>121.54391</td>\n",
       "      <td>47.3</td>\n",
       "    </tr>\n",
       "    <tr>\n",
       "      <th>3</th>\n",
       "      <td>4</td>\n",
       "      <td>2013.500000</td>\n",
       "      <td>13.3</td>\n",
       "      <td>561.98450</td>\n",
       "      <td>5</td>\n",
       "      <td>24.98746</td>\n",
       "      <td>121.54391</td>\n",
       "      <td>54.8</td>\n",
       "    </tr>\n",
       "    <tr>\n",
       "      <th>4</th>\n",
       "      <td>5</td>\n",
       "      <td>2012.833333</td>\n",
       "      <td>5.0</td>\n",
       "      <td>390.56840</td>\n",
       "      <td>5</td>\n",
       "      <td>24.97937</td>\n",
       "      <td>121.54245</td>\n",
       "      <td>43.1</td>\n",
       "    </tr>\n",
       "  </tbody>\n",
       "</table>\n",
       "</div>"
      ],
      "text/plain": [
       "   no         date   age   dist_mrt  n_stores       lat        lon  price\n",
       "0   1  2012.916667  32.0   84.87882        10  24.98298  121.54024   37.9\n",
       "1   2  2012.916667  19.5  306.59470         9  24.98034  121.53951   42.2\n",
       "2   3  2013.583333  13.3  561.98450         5  24.98746  121.54391   47.3\n",
       "3   4  2013.500000  13.3  561.98450         5  24.98746  121.54391   54.8\n",
       "4   5  2012.833333   5.0  390.56840         5  24.97937  121.54245   43.1"
      ]
     },
     "execution_count": 171,
     "metadata": {},
     "output_type": "execute_result"
    }
   ],
   "source": [
    "houses.head()"
   ]
  },
  {
   "cell_type": "code",
   "execution_count": 172,
   "metadata": {},
   "outputs": [],
   "source": [
    "houses_train, houses_test = train_test_split(houses, test_size = 0.3)"
   ]
  },
  {
   "cell_type": "code",
   "execution_count": 173,
   "metadata": {},
   "outputs": [
    {
     "data": {
      "text/plain": [
       "(289, 8)"
      ]
     },
     "execution_count": 173,
     "metadata": {},
     "output_type": "execute_result"
    }
   ],
   "source": [
    "houses_train.shape"
   ]
  },
  {
   "cell_type": "code",
   "execution_count": 174,
   "metadata": {},
   "outputs": [
    {
     "data": {
      "text/plain": [
       "(125, 8)"
      ]
     },
     "execution_count": 174,
     "metadata": {},
     "output_type": "execute_result"
    }
   ],
   "source": [
    "houses_test.shape"
   ]
  },
  {
   "cell_type": "code",
   "execution_count": 175,
   "metadata": {},
   "outputs": [
    {
     "data": {
      "text/plain": [
       "LinearRegression(copy_X=True, fit_intercept=True, n_jobs=None,\n",
       "         normalize=False)"
      ]
     },
     "execution_count": 175,
     "metadata": {},
     "output_type": "execute_result"
    }
   ],
   "source": [
    "regr = linear_model.LinearRegression()\n",
    "\n",
    "# Train the model using the training sets\n",
    "regr.fit(houses_train.iloc[:,:-1], houses_train.iloc[:,-1])"
   ]
  },
  {
   "cell_type": "code",
   "execution_count": 176,
   "metadata": {},
   "outputs": [],
   "source": [
    "train_pred = regr.predict(houses_train.iloc[:,:-1])"
   ]
  },
  {
   "cell_type": "code",
   "execution_count": 177,
   "metadata": {},
   "outputs": [
    {
     "name": "stdout",
     "output_type": "stream",
     "text": [
      "Coefficients: \n",
      " [-1.11829979e-02  4.33201691e+00 -2.51464923e-01 -3.50472478e-03\n",
      "  1.20984836e+00  2.37855732e+02  3.82649330e+01]\n"
     ]
    }
   ],
   "source": [
    "print('Coefficients: \\n', regr.coef_)"
   ]
  },
  {
   "cell_type": "code",
   "execution_count": 178,
   "metadata": {},
   "outputs": [
    {
     "name": "stdout",
     "output_type": "stream",
     "text": [
      "Variance score: 0.46\n"
     ]
    }
   ],
   "source": [
    "print('Variance score: %.2f' % (r2_score(train_pred, houses_train.iloc[:,-1])))"
   ]
  },
  {
   "cell_type": "code",
   "execution_count": 179,
   "metadata": {},
   "outputs": [
    {
     "name": "stdout",
     "output_type": "stream",
     "text": [
      "Variance score: -0.42\n"
     ]
    }
   ],
   "source": [
    "test_pred = regr.predict(houses_test.iloc[:,:-1])\n",
    "print('Variance score: %.2f' % (r2_score(test_pred, houses_test.iloc[:,-1])))"
   ]
  },
  {
   "cell_type": "code",
   "execution_count": null,
   "metadata": {},
   "outputs": [],
   "source": []
  },
  {
   "cell_type": "markdown",
   "metadata": {},
   "source": [
    "\n",
    "\n",
    "\n",
    "# USING STATSMODEL\n",
    "\n",
    "\n"
   ]
  },
  {
   "cell_type": "code",
   "execution_count": 180,
   "metadata": {},
   "outputs": [],
   "source": [
    "import statsmodels.api as sm\n",
    "from linearmodels.panel import PooledOLS\n"
   ]
  },
  {
   "cell_type": "code",
   "execution_count": 198,
   "metadata": {},
   "outputs": [],
   "source": [
    "features = ['date', 'age', 'dist_mrt', 'n_stores', 'lat', 'lon']\n",
    "\n",
    "houses_train_X = houses_train.loc[:,features]\n",
    "houses_train_y = houses_train.loc[:, 'price']\n",
    "\n",
    "houses_test_X = houses_test.loc[:,features]\n",
    "houses_test_y = houses_test.loc[:, 'price']\n",
    "\n",
    "houses_train_X = sm.add_constant(houses_train_X)\n",
    "houses_test_X = sm.add_constant(houses_test_X)"
   ]
  },
  {
   "cell_type": "code",
   "execution_count": 182,
   "metadata": {},
   "outputs": [],
   "source": [
    "model = sm.OLS(houses_train_y, houses_train_X)\n",
    "results = model.fit()"
   ]
  },
  {
   "cell_type": "code",
   "execution_count": 183,
   "metadata": {
    "scrolled": true
   },
   "outputs": [
    {
     "name": "stdout",
     "output_type": "stream",
     "text": [
      "                            OLS Regression Results                            \n",
      "==============================================================================\n",
      "Dep. Variable:                  price   R-squared:                       0.638\n",
      "Model:                            OLS   Adj. R-squared:                  0.630\n",
      "Method:                 Least Squares   F-statistic:                     82.72\n",
      "Date:                Wed, 10 Apr 2019   Prob (F-statistic):           2.82e-59\n",
      "Time:                        22:56:27   Log-Likelihood:                -1003.5\n",
      "No. Observations:                 289   AIC:                             2021.\n",
      "Df Residuals:                     282   BIC:                             2047.\n",
      "Df Model:                           6                                         \n",
      "Covariance Type:            nonrobust                                         \n",
      "==============================================================================\n",
      "                 coef    std err          t      P>|t|      [0.025      0.975]\n",
      "------------------------------------------------------------------------------\n",
      "const       -2.02e+04   7284.511     -2.773      0.006   -3.45e+04   -5863.266\n",
      "date           4.6436      1.706      2.721      0.007       1.285       8.003\n",
      "age           -0.2507      0.042     -6.010      0.000      -0.333      -0.169\n",
      "dist_mrt      -0.0035      0.001     -4.545      0.000      -0.005      -0.002\n",
      "n_stores       1.2072      0.201      6.008      0.000       0.812       1.603\n",
      "lat          229.7064     51.469      4.463      0.000     128.394     331.019\n",
      "lon           42.4520     52.598      0.807      0.420     -61.083     145.987\n",
      "==============================================================================\n",
      "Omnibus:                       49.414   Durbin-Watson:                   2.140\n",
      "Prob(Omnibus):                  0.000   Jarque-Bera (JB):               88.861\n",
      "Skew:                           0.932   Prob(JB):                     5.06e-20\n",
      "Kurtosis:                       4.976   Cond. No.                     3.80e+07\n",
      "==============================================================================\n",
      "\n",
      "Warnings:\n",
      "[1] Standard Errors assume that the covariance matrix of the errors is correctly specified.\n",
      "[2] The condition number is large, 3.8e+07. This might indicate that there are\n",
      "strong multicollinearity or other numerical problems.\n"
     ]
    }
   ],
   "source": [
    "print(results.summary())"
   ]
  },
  {
   "cell_type": "code",
   "execution_count": 184,
   "metadata": {},
   "outputs": [],
   "source": [
    "#houses_train_X"
   ]
  },
  {
   "cell_type": "code",
   "execution_count": 185,
   "metadata": {},
   "outputs": [
    {
     "data": {
      "image/png": "[encoded data removed]",
      "text/plain": [
       "<Figure size 432x288 with 1 Axes>"
      ]
     },
     "metadata": {
      "needs_background": "light"
     },
     "output_type": "display_data"
    }
   ],
   "source": [
    "plt.plot(houses_train_X.n_stores, houses_train_y, 'ro')\n",
    "plt.ylabel('Price')\n",
    "plt.xlabel('Number of Stores')\n",
    "plt.show()"
   ]
  },
  {
   "cell_type": "code",
   "execution_count": 186,
   "metadata": {},
   "outputs": [
    {
     "data": {
      "image/png": "[encoded data removed]",
      "text/plain": [
       "<Figure size 432x288 with 1 Axes>"
      ]
     },
     "metadata": {
      "needs_background": "light"
     },
     "output_type": "display_data"
    }
   ],
   "source": [
    "plt.plot(houses_train_X.age, houses_train_y, 'ro')\n",
    "plt.ylabel('Price')\n",
    "plt.xlabel('Age')\n",
    "plt.show()"
   ]
  },
  {
   "cell_type": "code",
   "execution_count": 187,
   "metadata": {},
   "outputs": [
    {
     "data": {
      "image/png": "[encoded data removed]",
      "text/plain": [
       "<Figure size 432x288 with 1 Axes>"
      ]
     },
     "metadata": {
      "needs_background": "light"
     },
     "output_type": "display_data"
    }
   ],
   "source": [
    "plt.plot(houses_train_X.dist_mrt, houses_train_y, 'ro')\n",
    "plt.ylabel('Price')\n",
    "plt.xlabel('Distance to MRT')\n",
    "plt.show()"
   ]
  },
  {
   "cell_type": "code",
   "execution_count": 188,
   "metadata": {},
   "outputs": [
    {
     "data": {
      "image/png": "[encoded data removed]",
      "text/plain": [
       "<Figure size 432x288 with 1 Axes>"
      ]
     },
     "metadata": {
      "needs_background": "light"
     },
     "output_type": "display_data"
    }
   ],
   "source": [
    "plt.plot(houses_train_X.lat, houses_train_y, 'ro')\n",
    "plt.ylabel('Price')\n",
    "plt.xlabel('Latitude')\n",
    "plt.show()"
   ]
  },
  {
   "cell_type": "code",
   "execution_count": 189,
   "metadata": {},
   "outputs": [
    {
     "data": {
      "image/png": "[encoded data removed]",
      "text/plain": [
       "<Figure size 432x288 with 1 Axes>"
      ]
     },
     "metadata": {
      "needs_background": "light"
     },
     "output_type": "display_data"
    }
   ],
   "source": [
    "plt.plot(houses_train_X.lon, houses_train_y, 'ro')\n",
    "plt.ylabel('Price')\n",
    "plt.xlabel('Longitude')\n",
    "plt.show()"
   ]
  },
  {
   "cell_type": "code",
   "execution_count": 190,
   "metadata": {},
   "outputs": [
    {
     "data": {
      "image/png": "[encoded data removed]",
      "text/plain": [
       "<Figure size 432x288 with 1 Axes>"
      ]
     },
     "metadata": {
      "needs_background": "light"
     },
     "output_type": "display_data"
    }
   ],
   "source": [
    "plt.plot(houses_train_X.date, houses_train_y, 'ro')\n",
    "plt.ylabel('Price')\n",
    "plt.xlabel('Date')\n",
    "plt.show()"
   ]
  },
  {
   "cell_type": "code",
   "execution_count": 191,
   "metadata": {},
   "outputs": [
    {
     "name": "stdout",
     "output_type": "stream",
     "text": [
      "Average price\n"
     ]
    },
    {
     "data": {
      "text/plain": [
       "37.49411764705882"
      ]
     },
     "execution_count": 191,
     "metadata": {},
     "output_type": "execute_result"
    }
   ],
   "source": [
    "print(\"Average price\")\n",
    "houses_train_y.mean()"
   ]
  },
  {
   "cell_type": "code",
   "execution_count": 192,
   "metadata": {},
   "outputs": [],
   "source": [
    "train_pred = results.predict(houses_train_X)\n",
    "# Use the model on test data\n",
    "test_pred = results.predict(houses_test_X)"
   ]
  },
  {
   "cell_type": "code",
   "execution_count": 193,
   "metadata": {},
   "outputs": [
    {
     "name": "stdout",
     "output_type": "stream",
     "text": [
      "Training R2 0.6376879915551443\n",
      "Test R2 0.47445405909564586\n"
     ]
    }
   ],
   "source": [
    "print(\"Training R2\", r2_score(houses_train_y, train_pred) )\n",
    "print(\"Test R2\", r2_score(houses_test_y, test_pred) )"
   ]
  },
  {
   "cell_type": "code",
   "execution_count": 197,
   "metadata": {},
   "outputs": [],
   "source": [
    "# Remove Longitude\n",
    "\n",
    "features2 = ['date', 'age', 'dist_mrt', 'n_stores', 'lat']\n",
    "\n",
    "houses_train_X2 = houses_train.loc[:,features2]\n",
    "houses_train_y2 = houses_train.loc[:, 'price']\n",
    "\n",
    "houses_test_X2 = houses_test.loc[:,features2]\n",
    "houses_test_y2 = houses_test.loc[:, 'price']\n",
    "\n",
    "houses_train_X2 = sm.add_constant(houses_train_X2)\n",
    "houses_test_X2 = sm.add_constant(houses_test_X2)"
   ]
  },
  {
   "cell_type": "code",
   "execution_count": 195,
   "metadata": {},
   "outputs": [],
   "source": [
    "model2 = sm.OLS(houses_train_y2, houses_train_X2)\n",
    "results2 = model2.fit()"
   ]
  },
  {
   "cell_type": "code",
   "execution_count": 196,
   "metadata": {},
   "outputs": [
    {
     "name": "stdout",
     "output_type": "stream",
     "text": [
      "                            OLS Regression Results                            \n",
      "==============================================================================\n",
      "Dep. Variable:                  price   R-squared:                       0.637\n",
      "Model:                            OLS   Adj. R-squared:                  0.630\n",
      "Method:                 Least Squares   F-statistic:                     99.26\n",
      "Date:                Wed, 10 Apr 2019   Prob (F-statistic):           3.71e-60\n",
      "Time:                        22:56:32   Log-Likelihood:                -1003.8\n",
      "No. Observations:                 289   AIC:                             2020.\n",
      "Df Residuals:                     283   BIC:                             2042.\n",
      "Df Model:                           5                                         \n",
      "Covariance Type:            nonrobust                                         \n",
      "==============================================================================\n",
      "                 coef    std err          t      P>|t|      [0.025      0.975]\n",
      "------------------------------------------------------------------------------\n",
      "const      -1.509e+04   3601.182     -4.191      0.000   -2.22e+04   -8004.077\n",
      "date           4.7438      1.701      2.789      0.006       1.396       8.092\n",
      "age           -0.2512      0.042     -6.027      0.000      -0.333      -0.169\n",
      "dist_mrt      -0.0040      0.001     -7.752      0.000      -0.005      -0.003\n",
      "n_stores       1.2058      0.201      6.005      0.000       0.811       1.601\n",
      "lat          223.6436     50.887      4.395      0.000     123.479     323.808\n",
      "==============================================================================\n",
      "Omnibus:                       49.125   Durbin-Watson:                   2.139\n",
      "Prob(Omnibus):                  0.000   Jarque-Bera (JB):               89.386\n",
      "Skew:                           0.921   Prob(JB):                     3.89e-20\n",
      "Kurtosis:                       5.007   Cond. No.                     1.88e+07\n",
      "==============================================================================\n",
      "\n",
      "Warnings:\n",
      "[1] Standard Errors assume that the covariance matrix of the errors is correctly specified.\n",
      "[2] The condition number is large, 1.88e+07. This might indicate that there are\n",
      "strong multicollinearity or other numerical problems.\n"
     ]
    }
   ],
   "source": [
    "print(results2.summary())"
   ]
  },
  {
   "cell_type": "code",
   "execution_count": 149,
   "metadata": {},
   "outputs": [],
   "source": [
    "train_pred2 = results2.predict(houses_train_X2)\n",
    "# Use the model on test data\n",
    "test_pred2 = results2.predict(houses_test_X2)"
   ]
  },
  {
   "cell_type": "code",
   "execution_count": 150,
   "metadata": {},
   "outputs": [
    {
     "name": "stdout",
     "output_type": "stream",
     "text": [
      "Training R2 - second model 0.6243712235178585\n",
      "Test R2 - second model 0.48890902818228876\n"
     ]
    }
   ],
   "source": [
    "print(\"Training R2 - second model\", r2_score(houses_train_y, train_pred2) )\n",
    "print(\"Test R2 - second model\", r2_score(houses_test_y, test_pred2) )"
   ]
  },
  {
   "cell_type": "code",
   "execution_count": 151,
   "metadata": {},
   "outputs": [],
   "source": [
    "# Statsmodels examples"
   ]
  }
 ],
 "metadata": {
  "kernelspec": {
   "display_name": "Python 3",
   "language": "python",
   "name": "python3"
  },
  "language_info": {
   "codemirror_mode": {
    "name": "ipython",
    "version": 3
   },
   "file_extension": ".py",
   "mimetype": "text/x-python",
   "name": "python",
   "nbconvert_exporter": "python",
   "pygments_lexer": "ipython3",
   "version": "3.7.2"
  }
 },
 "nbformat": 4,
 "nbformat_minor": 2
}
