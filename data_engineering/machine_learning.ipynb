{
 "cells": [
  {
   "cell_type": "code",
   "execution_count": 1,
   "metadata": {},
   "outputs": [],
   "source": [
    "# for numerical computing\n",
    "import numpy as np\n",
    "\n",
    "# for dataframes\n",
    "import pandas as pd\n",
    "\n",
    "# for easier visualization\n",
    "import seaborn as sns\n",
    "\n",
    "# for visualization and to display plots\n",
    "from matplotlib import pyplot as plt\n",
    "%matplotlib inline\n",
    "\n",
    "# import color maps\n",
    "from matplotlib.colors import ListedColormap\n",
    "\n",
    "# Ignore Warnings\n",
    "import warnings\n",
    "warnings.filterwarnings(\"ignore\")\n",
    "\n",
    "from math import sqrt\n",
    "\n",
    "# to split train and test set\n",
    "from sklearn.model_selection import train_test_split\n",
    "\n",
    "# to perform hyperparameter tuning\n",
    "from sklearn.model_selection import GridSearchCV\n",
    "from sklearn.model_selection import RandomizedSearchCV\n",
    "\n",
    "from sklearn.linear_model import Ridge  # Linear Regression + L2 regularization\n",
    "from sklearn.linear_model import Lasso  # Linear Regression + L1 regularization\n",
    "from sklearn.svm import SVR # Support Vector Regressor\n",
    "from sklearn.ensemble import RandomForestRegressor\n",
    "from sklearn.neighbors import KNeighborsRegressor \n",
    "from sklearn.model_selection import cross_val_score\n",
    "from sklearn.tree import DecisionTreeRegressor\n",
    "\n",
    "# Evaluation Metrics\n",
    "from sklearn.metrics import mean_squared_error as mse\n",
    "from sklearn.metrics import r2_score as rs\n",
    "from sklearn.metrics import mean_absolute_error as mae\n",
    "\n",
    "#import xgboost\n",
    "import os\n",
    "mingw_path = 'C:\\\\Program Files\\\\mingw-w64\\\\x86_64-7.2.0-posix-seh-rt_v5-rev0\\\\mingw64\\\\bin'\n",
    "os.environ['PATH'] = mingw_path + ';' + os.environ['PATH']\n",
    "from xgboost import XGBRegressor\n",
    "from xgboost import plot_importance  # to plot feature importance\n",
    "\n",
    "# to save the final model on disk\n",
    "from sklearn.externals import joblib"
   ]
  },
  {
   "cell_type": "markdown",
   "metadata": {},
   "source": [
    "# Machine Learning Models\n",
    "## Data Preparation"
   ]
  },
  {
   "cell_type": "code",
   "execution_count": 2,
   "metadata": {
    "scrolled": true
   },
   "outputs": [
    {
     "data": {
      "text/html": [
       "<div>\n",
       "<style scoped>\n",
       "    .dataframe tbody tr th:only-of-type {\n",
       "        vertical-align: middle;\n",
       "    }\n",
       "\n",
       "    .dataframe tbody tr th {\n",
       "        vertical-align: top;\n",
       "    }\n",
       "\n",
       "    .dataframe thead th {\n",
       "        text-align: right;\n",
       "    }\n",
       "</style>\n",
       "<table border=\"1\" class=\"dataframe\">\n",
       "  <thead>\n",
       "    <tr style=\"text-align: right;\">\n",
       "      <th></th>\n",
       "      <th>tx_price</th>\n",
       "      <th>beds</th>\n",
       "      <th>baths</th>\n",
       "      <th>sqft</th>\n",
       "      <th>lot_size</th>\n",
       "      <th>restaurants</th>\n",
       "      <th>groceries</th>\n",
       "      <th>cafes</th>\n",
       "      <th>shopping</th>\n",
       "      <th>arts_entertainment</th>\n",
       "      <th>...</th>\n",
       "      <th>exterior_walls_Other</th>\n",
       "      <th>exterior_walls_Siding (Alum/Vinyl)</th>\n",
       "      <th>exterior_walls_Wood</th>\n",
       "      <th>roof_Asphalt</th>\n",
       "      <th>roof_Composition Shingle</th>\n",
       "      <th>roof_Missing</th>\n",
       "      <th>roof_Other</th>\n",
       "      <th>roof_Shake Shingle</th>\n",
       "      <th>property_type_Apartment / Condo / Townhouse</th>\n",
       "      <th>property_type_Single-Family</th>\n",
       "    </tr>\n",
       "  </thead>\n",
       "  <tbody>\n",
       "    <tr>\n",
       "      <th>0</th>\n",
       "      <td>295850</td>\n",
       "      <td>1</td>\n",
       "      <td>1</td>\n",
       "      <td>584</td>\n",
       "      <td>0</td>\n",
       "      <td>107</td>\n",
       "      <td>9</td>\n",
       "      <td>19</td>\n",
       "      <td>89</td>\n",
       "      <td>6</td>\n",
       "      <td>...</td>\n",
       "      <td>0</td>\n",
       "      <td>0</td>\n",
       "      <td>1</td>\n",
       "      <td>0</td>\n",
       "      <td>0</td>\n",
       "      <td>1</td>\n",
       "      <td>0</td>\n",
       "      <td>0</td>\n",
       "      <td>1</td>\n",
       "      <td>0</td>\n",
       "    </tr>\n",
       "    <tr>\n",
       "      <th>1</th>\n",
       "      <td>240000</td>\n",
       "      <td>1</td>\n",
       "      <td>1</td>\n",
       "      <td>660</td>\n",
       "      <td>0</td>\n",
       "      <td>51</td>\n",
       "      <td>8</td>\n",
       "      <td>2</td>\n",
       "      <td>40</td>\n",
       "      <td>18</td>\n",
       "      <td>...</td>\n",
       "      <td>0</td>\n",
       "      <td>0</td>\n",
       "      <td>0</td>\n",
       "      <td>0</td>\n",
       "      <td>0</td>\n",
       "      <td>1</td>\n",
       "      <td>0</td>\n",
       "      <td>0</td>\n",
       "      <td>1</td>\n",
       "      <td>0</td>\n",
       "    </tr>\n",
       "    <tr>\n",
       "      <th>2</th>\n",
       "      <td>238600</td>\n",
       "      <td>1</td>\n",
       "      <td>1</td>\n",
       "      <td>834</td>\n",
       "      <td>0</td>\n",
       "      <td>45</td>\n",
       "      <td>12</td>\n",
       "      <td>11</td>\n",
       "      <td>28</td>\n",
       "      <td>7</td>\n",
       "      <td>...</td>\n",
       "      <td>0</td>\n",
       "      <td>0</td>\n",
       "      <td>0</td>\n",
       "      <td>0</td>\n",
       "      <td>0</td>\n",
       "      <td>1</td>\n",
       "      <td>0</td>\n",
       "      <td>0</td>\n",
       "      <td>1</td>\n",
       "      <td>0</td>\n",
       "    </tr>\n",
       "    <tr>\n",
       "      <th>3</th>\n",
       "      <td>371500</td>\n",
       "      <td>1</td>\n",
       "      <td>1</td>\n",
       "      <td>917</td>\n",
       "      <td>0</td>\n",
       "      <td>71</td>\n",
       "      <td>13</td>\n",
       "      <td>13</td>\n",
       "      <td>31</td>\n",
       "      <td>12</td>\n",
       "      <td>...</td>\n",
       "      <td>1</td>\n",
       "      <td>0</td>\n",
       "      <td>0</td>\n",
       "      <td>0</td>\n",
       "      <td>0</td>\n",
       "      <td>0</td>\n",
       "      <td>1</td>\n",
       "      <td>0</td>\n",
       "      <td>1</td>\n",
       "      <td>0</td>\n",
       "    </tr>\n",
       "    <tr>\n",
       "      <th>4</th>\n",
       "      <td>378000</td>\n",
       "      <td>1</td>\n",
       "      <td>1</td>\n",
       "      <td>961</td>\n",
       "      <td>0</td>\n",
       "      <td>54</td>\n",
       "      <td>8</td>\n",
       "      <td>3</td>\n",
       "      <td>48</td>\n",
       "      <td>16</td>\n",
       "      <td>...</td>\n",
       "      <td>0</td>\n",
       "      <td>0</td>\n",
       "      <td>1</td>\n",
       "      <td>0</td>\n",
       "      <td>0</td>\n",
       "      <td>1</td>\n",
       "      <td>0</td>\n",
       "      <td>0</td>\n",
       "      <td>1</td>\n",
       "      <td>0</td>\n",
       "    </tr>\n",
       "  </tbody>\n",
       "</table>\n",
       "<p>5 rows × 41 columns</p>\n",
       "</div>"
      ],
      "text/plain": [
       "   tx_price  beds  baths  sqft  lot_size  restaurants  groceries  cafes  \\\n",
       "0    295850     1      1   584         0          107          9     19   \n",
       "1    240000     1      1   660         0           51          8      2   \n",
       "2    238600     1      1   834         0           45         12     11   \n",
       "3    371500     1      1   917         0           71         13     13   \n",
       "4    378000     1      1   961         0           54          8      3   \n",
       "\n",
       "   shopping  arts_entertainment             ...               \\\n",
       "0        89                   6             ...                \n",
       "1        40                  18             ...                \n",
       "2        28                   7             ...                \n",
       "3        31                  12             ...                \n",
       "4        48                  16             ...                \n",
       "\n",
       "   exterior_walls_Other  exterior_walls_Siding (Alum/Vinyl)  \\\n",
       "0                     0                                   0   \n",
       "1                     0                                   0   \n",
       "2                     0                                   0   \n",
       "3                     1                                   0   \n",
       "4                     0                                   0   \n",
       "\n",
       "   exterior_walls_Wood  roof_Asphalt  roof_Composition Shingle  roof_Missing  \\\n",
       "0                    1             0                         0             1   \n",
       "1                    0             0                         0             1   \n",
       "2                    0             0                         0             1   \n",
       "3                    0             0                         0             0   \n",
       "4                    1             0                         0             1   \n",
       "\n",
       "   roof_Other  roof_Shake Shingle  \\\n",
       "0           0                   0   \n",
       "1           0                   0   \n",
       "2           0                   0   \n",
       "3           1                   0   \n",
       "4           0                   0   \n",
       "\n",
       "   property_type_Apartment / Condo / Townhouse  property_type_Single-Family  \n",
       "0                                            1                            0  \n",
       "1                                            1                            0  \n",
       "2                                            1                            0  \n",
       "3                                            1                            0  \n",
       "4                                            1                            0  \n",
       "\n",
       "[5 rows x 41 columns]"
      ]
     },
     "execution_count": 2,
     "metadata": {},
     "output_type": "execute_result"
    }
   ],
   "source": [
    "df = pd.read_csv(\"Files/stock_analytical_base_table.csv\")\n",
    "df.head()"
   ]
  },
  {
   "cell_type": "code",
   "execution_count": 3,
   "metadata": {},
   "outputs": [
    {
     "name": "stdout",
     "output_type": "stream",
     "text": [
      "<class 'pandas.core.frame.DataFrame'>\n",
      "RangeIndex: 1863 entries, 0 to 1862\n",
      "Data columns (total 41 columns):\n",
      "tx_price                                       1863 non-null int64\n",
      "beds                                           1863 non-null int64\n",
      "baths                                          1863 non-null int64\n",
      "sqft                                           1863 non-null int64\n",
      "lot_size                                       1863 non-null int64\n",
      "restaurants                                    1863 non-null int64\n",
      "groceries                                      1863 non-null int64\n",
      "cafes                                          1863 non-null int64\n",
      "shopping                                       1863 non-null int64\n",
      "arts_entertainment                             1863 non-null int64\n",
      "beauty_spas                                    1863 non-null int64\n",
      "active_life                                    1863 non-null int64\n",
      "median_age                                     1863 non-null float64\n",
      "married                                        1863 non-null float64\n",
      "college_grad                                   1863 non-null float64\n",
      "median_school                                  1863 non-null float64\n",
      "num_schools                                    1863 non-null float64\n",
      "s&p_returns                                    1863 non-null float64\n",
      "consumer_price_index                           1863 non-null float64\n",
      "treasury_1_year_bond                           1863 non-null float64\n",
      "two_and_two                                    1863 non-null int64\n",
      "old_properties                                 1863 non-null int64\n",
      "tax_and_insurance                              1863 non-null float64\n",
      "during_recession                               1863 non-null int64\n",
      "property_age                                   1863 non-null int64\n",
      "school_score                                   1863 non-null float64\n",
      "exterior_walls_Brick                           1863 non-null int64\n",
      "exterior_walls_Brick veneer                    1863 non-null int64\n",
      "exterior_walls_Combination                     1863 non-null int64\n",
      "exterior_walls_Metal                           1863 non-null int64\n",
      "exterior_walls_Missing                         1863 non-null int64\n",
      "exterior_walls_Other                           1863 non-null int64\n",
      "exterior_walls_Siding (Alum/Vinyl)             1863 non-null int64\n",
      "exterior_walls_Wood                            1863 non-null int64\n",
      "roof_Asphalt                                   1863 non-null int64\n",
      "roof_Composition Shingle                       1863 non-null int64\n",
      "roof_Missing                                   1863 non-null int64\n",
      "roof_Other                                     1863 non-null int64\n",
      "roof_Shake Shingle                             1863 non-null int64\n",
      "property_type_Apartment / Condo / Townhouse    1863 non-null int64\n",
      "property_type_Single-Family                    1863 non-null int64\n",
      "dtypes: float64(10), int64(31)\n",
      "memory usage: 596.8 KB\n"
     ]
    }
   ],
   "source": [
    "df.info()"
   ]
  },
  {
   "cell_type": "code",
   "execution_count": 4,
   "metadata": {},
   "outputs": [
    {
     "name": "stdout",
     "output_type": "stream",
     "text": [
      "(1863, 41)\n"
     ]
    }
   ],
   "source": [
    "print(df.shape)"
   ]
  },
  {
   "cell_type": "markdown",
   "metadata": {},
   "source": [
    "###  Train and Test Splits\n",
    "Separate your dataframe into separate objects for the target variable (y) and the input features (X) and perform the train and test split"
   ]
  },
  {
   "cell_type": "code",
   "execution_count": 5,
   "metadata": {},
   "outputs": [
    {
     "data": {
      "text/plain": [
       "0    295850\n",
       "1    240000\n",
       "2    238600\n",
       "3    371500\n",
       "4    378000\n",
       "5    455900\n",
       "6    238900\n",
       "7    285000\n",
       "8    375500\n",
       "9    275000\n",
       "Name: tx_price, dtype: int64"
      ]
     },
     "execution_count": 5,
     "metadata": {},
     "output_type": "execute_result"
    }
   ],
   "source": [
    "# Create separate object for target variable\n",
    "y = df.tx_price\n",
    "# Create separate object for input features\n",
    "X = df.drop('tx_price', axis=1)\n",
    "y.head(10)"
   ]
  },
  {
   "cell_type": "code",
   "execution_count": 6,
   "metadata": {},
   "outputs": [],
   "source": [
    "# Split X and y into train and test sets: 80-20\n",
    "X_train, X_test, y_train, y_test = train_test_split(X, y, test_size=0.2, random_state=1234)"
   ]
  },
  {
   "cell_type": "markdown",
   "metadata": {},
   "source": [
    "Let's confirm we have the right number of observations in each subset."
   ]
  },
  {
   "cell_type": "code",
   "execution_count": 7,
   "metadata": {},
   "outputs": [
    {
     "name": "stdout",
     "output_type": "stream",
     "text": [
      "(1490, 40) (373, 40) (1490,) (373,)\n"
     ]
    }
   ],
   "source": [
    "print(X_train.shape, X_test.shape, y_train.shape, y_test.shape)"
   ]
  },
  {
   "cell_type": "markdown",
   "metadata": {},
   "source": [
    "### Data standardization\n",
    "* In Data Standardization we perform zero mean centring and unit scaling; i.e. we make the mean of all the features as zero and the standard deviation as 1.\n",
    "* Thus we use **mean** and **standard deviation** of each feature.\n",
    "* It is very important to save the **mean** and **standard deviation** for each of the feature from the **training set**, because we use the same mean and standard deviation in the test set."
   ]
  },
  {
   "cell_type": "code",
   "execution_count": 8,
   "metadata": {},
   "outputs": [],
   "source": [
    "train_mean = X_train.mean()\n",
    "train_std = X_train.std()"
   ]
  },
  {
   "cell_type": "code",
   "execution_count": 9,
   "metadata": {},
   "outputs": [],
   "source": [
    "## Standardize the train data set\n",
    "X_train = (X_train - train_mean) / train_std"
   ]
  },
  {
   "cell_type": "code",
   "execution_count": 10,
   "metadata": {},
   "outputs": [
    {
     "data": {
      "text/html": [
       "<div>\n",
       "<style scoped>\n",
       "    .dataframe tbody tr th:only-of-type {\n",
       "        vertical-align: middle;\n",
       "    }\n",
       "\n",
       "    .dataframe tbody tr th {\n",
       "        vertical-align: top;\n",
       "    }\n",
       "\n",
       "    .dataframe thead th {\n",
       "        text-align: right;\n",
       "    }\n",
       "</style>\n",
       "<table border=\"1\" class=\"dataframe\">\n",
       "  <thead>\n",
       "    <tr style=\"text-align: right;\">\n",
       "      <th></th>\n",
       "      <th>beds</th>\n",
       "      <th>baths</th>\n",
       "      <th>sqft</th>\n",
       "      <th>lot_size</th>\n",
       "      <th>restaurants</th>\n",
       "      <th>groceries</th>\n",
       "      <th>cafes</th>\n",
       "      <th>shopping</th>\n",
       "      <th>arts_entertainment</th>\n",
       "      <th>beauty_spas</th>\n",
       "      <th>...</th>\n",
       "      <th>exterior_walls_Other</th>\n",
       "      <th>exterior_walls_Siding (Alum/Vinyl)</th>\n",
       "      <th>exterior_walls_Wood</th>\n",
       "      <th>roof_Asphalt</th>\n",
       "      <th>roof_Composition Shingle</th>\n",
       "      <th>roof_Missing</th>\n",
       "      <th>roof_Other</th>\n",
       "      <th>roof_Shake Shingle</th>\n",
       "      <th>property_type_Apartment / Condo / Townhouse</th>\n",
       "      <th>property_type_Single-Family</th>\n",
       "    </tr>\n",
       "  </thead>\n",
       "  <tbody>\n",
       "    <tr>\n",
       "      <th>count</th>\n",
       "      <td>1.490000e+03</td>\n",
       "      <td>1.490000e+03</td>\n",
       "      <td>1.490000e+03</td>\n",
       "      <td>1.490000e+03</td>\n",
       "      <td>1.490000e+03</td>\n",
       "      <td>1.490000e+03</td>\n",
       "      <td>1.490000e+03</td>\n",
       "      <td>1.490000e+03</td>\n",
       "      <td>1.490000e+03</td>\n",
       "      <td>1.490000e+03</td>\n",
       "      <td>...</td>\n",
       "      <td>1.490000e+03</td>\n",
       "      <td>1.490000e+03</td>\n",
       "      <td>1.490000e+03</td>\n",
       "      <td>1.490000e+03</td>\n",
       "      <td>1.490000e+03</td>\n",
       "      <td>1.490000e+03</td>\n",
       "      <td>1.490000e+03</td>\n",
       "      <td>1.490000e+03</td>\n",
       "      <td>1.490000e+03</td>\n",
       "      <td>1.490000e+03</td>\n",
       "    </tr>\n",
       "    <tr>\n",
       "      <th>mean</th>\n",
       "      <td>8.941393e-17</td>\n",
       "      <td>-2.861246e-17</td>\n",
       "      <td>-3.099683e-17</td>\n",
       "      <td>-1.847888e-17</td>\n",
       "      <td>-8.345301e-17</td>\n",
       "      <td>-8.583738e-17</td>\n",
       "      <td>-1.311404e-17</td>\n",
       "      <td>-6.020538e-17</td>\n",
       "      <td>5.126399e-17</td>\n",
       "      <td>5.722492e-17</td>\n",
       "      <td>...</td>\n",
       "      <td>-5.960929e-17</td>\n",
       "      <td>1.430623e-17</td>\n",
       "      <td>-4.768743e-18</td>\n",
       "      <td>3.099683e-17</td>\n",
       "      <td>-3.934213e-17</td>\n",
       "      <td>4.172650e-17</td>\n",
       "      <td>-6.795459e-17</td>\n",
       "      <td>-2.145934e-17</td>\n",
       "      <td>3.576557e-17</td>\n",
       "      <td>-3.576557e-17</td>\n",
       "    </tr>\n",
       "    <tr>\n",
       "      <th>std</th>\n",
       "      <td>1.000000e+00</td>\n",
       "      <td>1.000000e+00</td>\n",
       "      <td>1.000000e+00</td>\n",
       "      <td>1.000000e+00</td>\n",
       "      <td>1.000000e+00</td>\n",
       "      <td>1.000000e+00</td>\n",
       "      <td>1.000000e+00</td>\n",
       "      <td>1.000000e+00</td>\n",
       "      <td>1.000000e+00</td>\n",
       "      <td>1.000000e+00</td>\n",
       "      <td>...</td>\n",
       "      <td>1.000000e+00</td>\n",
       "      <td>1.000000e+00</td>\n",
       "      <td>1.000000e+00</td>\n",
       "      <td>1.000000e+00</td>\n",
       "      <td>1.000000e+00</td>\n",
       "      <td>1.000000e+00</td>\n",
       "      <td>1.000000e+00</td>\n",
       "      <td>1.000000e+00</td>\n",
       "      <td>1.000000e+00</td>\n",
       "      <td>1.000000e+00</td>\n",
       "    </tr>\n",
       "    <tr>\n",
       "      <th>min</th>\n",
       "      <td>-2.246930e+00</td>\n",
       "      <td>-1.659039e+00</td>\n",
       "      <td>-1.375592e+00</td>\n",
       "      <td>-3.495308e-01</td>\n",
       "      <td>-8.595667e-01</td>\n",
       "      <td>-9.998129e-01</td>\n",
       "      <td>-7.046885e-01</td>\n",
       "      <td>-7.574438e-01</td>\n",
       "      <td>-7.234508e-01</td>\n",
       "      <td>-9.131834e-01</td>\n",
       "      <td>...</td>\n",
       "      <td>-2.011855e-01</td>\n",
       "      <td>-6.045445e-01</td>\n",
       "      <td>-2.623363e-01</td>\n",
       "      <td>-2.780578e-01</td>\n",
       "      <td>-1.337558e+00</td>\n",
       "      <td>-4.819414e-01</td>\n",
       "      <td>-2.608729e-01</td>\n",
       "      <td>-1.881954e-01</td>\n",
       "      <td>-8.721917e-01</td>\n",
       "      <td>-1.145767e+00</td>\n",
       "    </tr>\n",
       "    <tr>\n",
       "      <th>25%</th>\n",
       "      <td>-3.791890e-01</td>\n",
       "      <td>-5.898486e-01</td>\n",
       "      <td>-7.367561e-01</td>\n",
       "      <td>-3.074138e-01</td>\n",
       "      <td>-7.087046e-01</td>\n",
       "      <td>-7.792115e-01</td>\n",
       "      <td>-7.046885e-01</td>\n",
       "      <td>-6.288210e-01</td>\n",
       "      <td>-7.234508e-01</td>\n",
       "      <td>-7.566301e-01</td>\n",
       "      <td>...</td>\n",
       "      <td>-2.011855e-01</td>\n",
       "      <td>-6.045445e-01</td>\n",
       "      <td>-2.623363e-01</td>\n",
       "      <td>-2.780578e-01</td>\n",
       "      <td>-1.337558e+00</td>\n",
       "      <td>-4.819414e-01</td>\n",
       "      <td>-2.608729e-01</td>\n",
       "      <td>-1.881954e-01</td>\n",
       "      <td>-8.721917e-01</td>\n",
       "      <td>-1.145767e+00</td>\n",
       "    </tr>\n",
       "    <tr>\n",
       "      <th>50%</th>\n",
       "      <td>-3.791890e-01</td>\n",
       "      <td>4.793417e-01</td>\n",
       "      <td>-3.122790e-01</td>\n",
       "      <td>-1.902911e-01</td>\n",
       "      <td>-3.638770e-01</td>\n",
       "      <td>-3.380087e-01</td>\n",
       "      <td>-3.073178e-01</td>\n",
       "      <td>-3.532008e-01</td>\n",
       "      <td>-3.008114e-01</td>\n",
       "      <td>-3.261088e-01</td>\n",
       "      <td>...</td>\n",
       "      <td>-2.011855e-01</td>\n",
       "      <td>-6.045445e-01</td>\n",
       "      <td>-2.623363e-01</td>\n",
       "      <td>-2.780578e-01</td>\n",
       "      <td>7.471295e-01</td>\n",
       "      <td>-4.819414e-01</td>\n",
       "      <td>-2.608729e-01</td>\n",
       "      <td>-1.881954e-01</td>\n",
       "      <td>-8.721917e-01</td>\n",
       "      <td>8.721917e-01</td>\n",
       "    </tr>\n",
       "    <tr>\n",
       "      <th>75%</th>\n",
       "      <td>5.546814e-01</td>\n",
       "      <td>4.793417e-01</td>\n",
       "      <td>4.996638e-01</td>\n",
       "      <td>-3.138843e-02</td>\n",
       "      <td>3.904334e-01</td>\n",
       "      <td>5.443969e-01</td>\n",
       "      <td>9.005292e-02</td>\n",
       "      <td>1.796649e-01</td>\n",
       "      <td>3.331476e-01</td>\n",
       "      <td>4.957957e-01</td>\n",
       "      <td>...</td>\n",
       "      <td>-2.011855e-01</td>\n",
       "      <td>1.653028e+00</td>\n",
       "      <td>-2.623363e-01</td>\n",
       "      <td>-2.780578e-01</td>\n",
       "      <td>7.471295e-01</td>\n",
       "      <td>-4.819414e-01</td>\n",
       "      <td>-2.608729e-01</td>\n",
       "      <td>-1.881954e-01</td>\n",
       "      <td>1.145767e+00</td>\n",
       "      <td>8.721917e-01</td>\n",
       "    </tr>\n",
       "    <tr>\n",
       "      <th>max</th>\n",
       "      <td>1.488552e+00</td>\n",
       "      <td>3.686913e+00</td>\n",
       "      <td>4.285646e+00</td>\n",
       "      <td>1.191183e+01</td>\n",
       "      <td>4.873192e+00</td>\n",
       "      <td>4.294621e+00</td>\n",
       "      <td>5.520786e+00</td>\n",
       "      <td>5.489948e+00</td>\n",
       "      <td>6.672738e+00</td>\n",
       "      <td>5.936020e+00</td>\n",
       "      <td>...</td>\n",
       "      <td>4.967201e+00</td>\n",
       "      <td>1.653028e+00</td>\n",
       "      <td>3.809342e+00</td>\n",
       "      <td>3.593961e+00</td>\n",
       "      <td>7.471295e-01</td>\n",
       "      <td>2.073549e+00</td>\n",
       "      <td>3.830712e+00</td>\n",
       "      <td>5.310061e+00</td>\n",
       "      <td>1.145767e+00</td>\n",
       "      <td>8.721917e-01</td>\n",
       "    </tr>\n",
       "  </tbody>\n",
       "</table>\n",
       "<p>8 rows × 40 columns</p>\n",
       "</div>"
      ],
      "text/plain": [
       "               beds         baths          sqft      lot_size   restaurants  \\\n",
       "count  1.490000e+03  1.490000e+03  1.490000e+03  1.490000e+03  1.490000e+03   \n",
       "mean   8.941393e-17 -2.861246e-17 -3.099683e-17 -1.847888e-17 -8.345301e-17   \n",
       "std    1.000000e+00  1.000000e+00  1.000000e+00  1.000000e+00  1.000000e+00   \n",
       "min   -2.246930e+00 -1.659039e+00 -1.375592e+00 -3.495308e-01 -8.595667e-01   \n",
       "25%   -3.791890e-01 -5.898486e-01 -7.367561e-01 -3.074138e-01 -7.087046e-01   \n",
       "50%   -3.791890e-01  4.793417e-01 -3.122790e-01 -1.902911e-01 -3.638770e-01   \n",
       "75%    5.546814e-01  4.793417e-01  4.996638e-01 -3.138843e-02  3.904334e-01   \n",
       "max    1.488552e+00  3.686913e+00  4.285646e+00  1.191183e+01  4.873192e+00   \n",
       "\n",
       "          groceries         cafes      shopping  arts_entertainment  \\\n",
       "count  1.490000e+03  1.490000e+03  1.490000e+03        1.490000e+03   \n",
       "mean  -8.583738e-17 -1.311404e-17 -6.020538e-17        5.126399e-17   \n",
       "std    1.000000e+00  1.000000e+00  1.000000e+00        1.000000e+00   \n",
       "min   -9.998129e-01 -7.046885e-01 -7.574438e-01       -7.234508e-01   \n",
       "25%   -7.792115e-01 -7.046885e-01 -6.288210e-01       -7.234508e-01   \n",
       "50%   -3.380087e-01 -3.073178e-01 -3.532008e-01       -3.008114e-01   \n",
       "75%    5.443969e-01  9.005292e-02  1.796649e-01        3.331476e-01   \n",
       "max    4.294621e+00  5.520786e+00  5.489948e+00        6.672738e+00   \n",
       "\n",
       "        beauty_spas             ...               exterior_walls_Other  \\\n",
       "count  1.490000e+03             ...                       1.490000e+03   \n",
       "mean   5.722492e-17             ...                      -5.960929e-17   \n",
       "std    1.000000e+00             ...                       1.000000e+00   \n",
       "min   -9.131834e-01             ...                      -2.011855e-01   \n",
       "25%   -7.566301e-01             ...                      -2.011855e-01   \n",
       "50%   -3.261088e-01             ...                      -2.011855e-01   \n",
       "75%    4.957957e-01             ...                      -2.011855e-01   \n",
       "max    5.936020e+00             ...                       4.967201e+00   \n",
       "\n",
       "       exterior_walls_Siding (Alum/Vinyl)  exterior_walls_Wood  roof_Asphalt  \\\n",
       "count                        1.490000e+03         1.490000e+03  1.490000e+03   \n",
       "mean                         1.430623e-17        -4.768743e-18  3.099683e-17   \n",
       "std                          1.000000e+00         1.000000e+00  1.000000e+00   \n",
       "min                         -6.045445e-01        -2.623363e-01 -2.780578e-01   \n",
       "25%                         -6.045445e-01        -2.623363e-01 -2.780578e-01   \n",
       "50%                         -6.045445e-01        -2.623363e-01 -2.780578e-01   \n",
       "75%                          1.653028e+00        -2.623363e-01 -2.780578e-01   \n",
       "max                          1.653028e+00         3.809342e+00  3.593961e+00   \n",
       "\n",
       "       roof_Composition Shingle  roof_Missing    roof_Other  \\\n",
       "count              1.490000e+03  1.490000e+03  1.490000e+03   \n",
       "mean              -3.934213e-17  4.172650e-17 -6.795459e-17   \n",
       "std                1.000000e+00  1.000000e+00  1.000000e+00   \n",
       "min               -1.337558e+00 -4.819414e-01 -2.608729e-01   \n",
       "25%               -1.337558e+00 -4.819414e-01 -2.608729e-01   \n",
       "50%                7.471295e-01 -4.819414e-01 -2.608729e-01   \n",
       "75%                7.471295e-01 -4.819414e-01 -2.608729e-01   \n",
       "max                7.471295e-01  2.073549e+00  3.830712e+00   \n",
       "\n",
       "       roof_Shake Shingle  property_type_Apartment / Condo / Townhouse  \\\n",
       "count        1.490000e+03                                 1.490000e+03   \n",
       "mean        -2.145934e-17                                 3.576557e-17   \n",
       "std          1.000000e+00                                 1.000000e+00   \n",
       "min         -1.881954e-01                                -8.721917e-01   \n",
       "25%         -1.881954e-01                                -8.721917e-01   \n",
       "50%         -1.881954e-01                                -8.721917e-01   \n",
       "75%         -1.881954e-01                                 1.145767e+00   \n",
       "max          5.310061e+00                                 1.145767e+00   \n",
       "\n",
       "       property_type_Single-Family  \n",
       "count                 1.490000e+03  \n",
       "mean                 -3.576557e-17  \n",
       "std                   1.000000e+00  \n",
       "min                  -1.145767e+00  \n",
       "25%                  -1.145767e+00  \n",
       "50%                   8.721917e-01  \n",
       "75%                   8.721917e-01  \n",
       "max                   8.721917e-01  \n",
       "\n",
       "[8 rows x 40 columns]"
      ]
     },
     "execution_count": 10,
     "metadata": {},
     "output_type": "execute_result"
    }
   ],
   "source": [
    "## Check for mean and std dev.\n",
    "X_train.describe()"
   ]
  },
  {
   "cell_type": "code",
   "execution_count": 11,
   "metadata": {},
   "outputs": [],
   "source": [
    "## Note: We use train_mean and train_std_dev to standardize test data set\n",
    "X_test = (X_test - train_mean) / train_std"
   ]
  },
  {
   "cell_type": "code",
   "execution_count": 12,
   "metadata": {},
   "outputs": [
    {
     "data": {
      "text/html": [
       "<div>\n",
       "<style scoped>\n",
       "    .dataframe tbody tr th:only-of-type {\n",
       "        vertical-align: middle;\n",
       "    }\n",
       "\n",
       "    .dataframe tbody tr th {\n",
       "        vertical-align: top;\n",
       "    }\n",
       "\n",
       "    .dataframe thead th {\n",
       "        text-align: right;\n",
       "    }\n",
       "</style>\n",
       "<table border=\"1\" class=\"dataframe\">\n",
       "  <thead>\n",
       "    <tr style=\"text-align: right;\">\n",
       "      <th></th>\n",
       "      <th>beds</th>\n",
       "      <th>baths</th>\n",
       "      <th>sqft</th>\n",
       "      <th>lot_size</th>\n",
       "      <th>restaurants</th>\n",
       "      <th>groceries</th>\n",
       "      <th>cafes</th>\n",
       "      <th>shopping</th>\n",
       "      <th>arts_entertainment</th>\n",
       "      <th>beauty_spas</th>\n",
       "      <th>...</th>\n",
       "      <th>exterior_walls_Other</th>\n",
       "      <th>exterior_walls_Siding (Alum/Vinyl)</th>\n",
       "      <th>exterior_walls_Wood</th>\n",
       "      <th>roof_Asphalt</th>\n",
       "      <th>roof_Composition Shingle</th>\n",
       "      <th>roof_Missing</th>\n",
       "      <th>roof_Other</th>\n",
       "      <th>roof_Shake Shingle</th>\n",
       "      <th>property_type_Apartment / Condo / Townhouse</th>\n",
       "      <th>property_type_Single-Family</th>\n",
       "    </tr>\n",
       "  </thead>\n",
       "  <tbody>\n",
       "    <tr>\n",
       "      <th>count</th>\n",
       "      <td>373.000000</td>\n",
       "      <td>373.000000</td>\n",
       "      <td>373.000000</td>\n",
       "      <td>373.000000</td>\n",
       "      <td>373.000000</td>\n",
       "      <td>373.000000</td>\n",
       "      <td>373.000000</td>\n",
       "      <td>373.000000</td>\n",
       "      <td>373.000000</td>\n",
       "      <td>373.000000</td>\n",
       "      <td>...</td>\n",
       "      <td>373.000000</td>\n",
       "      <td>373.000000</td>\n",
       "      <td>373.000000</td>\n",
       "      <td>373.000000</td>\n",
       "      <td>373.000000</td>\n",
       "      <td>373.000000</td>\n",
       "      <td>373.000000</td>\n",
       "      <td>373.000000</td>\n",
       "      <td>373.000000</td>\n",
       "      <td>373.000000</td>\n",
       "    </tr>\n",
       "    <tr>\n",
       "      <th>mean</th>\n",
       "      <td>0.013888</td>\n",
       "      <td>0.066571</td>\n",
       "      <td>0.058472</td>\n",
       "      <td>0.011183</td>\n",
       "      <td>0.050459</td>\n",
       "      <td>-0.018048</td>\n",
       "      <td>0.019030</td>\n",
       "      <td>-0.025363</td>\n",
       "      <td>-0.017541</td>\n",
       "      <td>0.025821</td>\n",
       "      <td>...</td>\n",
       "      <td>-0.076479</td>\n",
       "      <td>-0.017455</td>\n",
       "      <td>0.021480</td>\n",
       "      <td>0.022984</td>\n",
       "      <td>0.031741</td>\n",
       "      <td>0.004492</td>\n",
       "      <td>-0.041485</td>\n",
       "      <td>-0.070270</td>\n",
       "      <td>-0.017399</td>\n",
       "      <td>0.017399</td>\n",
       "    </tr>\n",
       "    <tr>\n",
       "      <th>std</th>\n",
       "      <td>0.974312</td>\n",
       "      <td>0.964006</td>\n",
       "      <td>1.004367</td>\n",
       "      <td>0.920528</td>\n",
       "      <td>1.067369</td>\n",
       "      <td>0.965539</td>\n",
       "      <td>1.012606</td>\n",
       "      <td>0.934499</td>\n",
       "      <td>0.972949</td>\n",
       "      <td>1.056038</td>\n",
       "      <td>...</td>\n",
       "      <td>0.794147</td>\n",
       "      <td>0.991645</td>\n",
       "      <td>1.038243</td>\n",
       "      <td>1.038221</td>\n",
       "      <td>0.991067</td>\n",
       "      <td>1.004572</td>\n",
       "      <td>0.922928</td>\n",
       "      <td>0.797610</td>\n",
       "      <td>0.998468</td>\n",
       "      <td>0.998468</td>\n",
       "    </tr>\n",
       "    <tr>\n",
       "      <th>min</th>\n",
       "      <td>-2.246930</td>\n",
       "      <td>-1.659039</td>\n",
       "      <td>-1.286919</td>\n",
       "      <td>-0.349531</td>\n",
       "      <td>-0.859567</td>\n",
       "      <td>-0.999813</td>\n",
       "      <td>-0.704689</td>\n",
       "      <td>-0.757444</td>\n",
       "      <td>-0.723451</td>\n",
       "      <td>-0.913183</td>\n",
       "      <td>...</td>\n",
       "      <td>-0.201186</td>\n",
       "      <td>-0.604545</td>\n",
       "      <td>-0.262336</td>\n",
       "      <td>-0.278058</td>\n",
       "      <td>-1.337558</td>\n",
       "      <td>-0.481941</td>\n",
       "      <td>-0.260873</td>\n",
       "      <td>-0.188195</td>\n",
       "      <td>-0.872192</td>\n",
       "      <td>-1.145767</td>\n",
       "    </tr>\n",
       "    <tr>\n",
       "      <th>25%</th>\n",
       "      <td>-0.379189</td>\n",
       "      <td>-0.589849</td>\n",
       "      <td>-0.681624</td>\n",
       "      <td>-0.303179</td>\n",
       "      <td>-0.708705</td>\n",
       "      <td>-0.779212</td>\n",
       "      <td>-0.704689</td>\n",
       "      <td>-0.647196</td>\n",
       "      <td>-0.723451</td>\n",
       "      <td>-0.717492</td>\n",
       "      <td>...</td>\n",
       "      <td>-0.201186</td>\n",
       "      <td>-0.604545</td>\n",
       "      <td>-0.262336</td>\n",
       "      <td>-0.278058</td>\n",
       "      <td>-1.337558</td>\n",
       "      <td>-0.481941</td>\n",
       "      <td>-0.260873</td>\n",
       "      <td>-0.188195</td>\n",
       "      <td>-0.872192</td>\n",
       "      <td>-1.145767</td>\n",
       "    </tr>\n",
       "    <tr>\n",
       "      <th>50%</th>\n",
       "      <td>-0.379189</td>\n",
       "      <td>0.479342</td>\n",
       "      <td>-0.265243</td>\n",
       "      <td>-0.165977</td>\n",
       "      <td>-0.363877</td>\n",
       "      <td>-0.338009</td>\n",
       "      <td>-0.307318</td>\n",
       "      <td>-0.371576</td>\n",
       "      <td>-0.300811</td>\n",
       "      <td>-0.286970</td>\n",
       "      <td>...</td>\n",
       "      <td>-0.201186</td>\n",
       "      <td>-0.604545</td>\n",
       "      <td>-0.262336</td>\n",
       "      <td>-0.278058</td>\n",
       "      <td>0.747130</td>\n",
       "      <td>-0.481941</td>\n",
       "      <td>-0.260873</td>\n",
       "      <td>-0.188195</td>\n",
       "      <td>-0.872192</td>\n",
       "      <td>0.872192</td>\n",
       "    </tr>\n",
       "    <tr>\n",
       "      <th>75%</th>\n",
       "      <td>0.554681</td>\n",
       "      <td>0.479342</td>\n",
       "      <td>0.566747</td>\n",
       "      <td>-0.031388</td>\n",
       "      <td>0.433537</td>\n",
       "      <td>0.544397</td>\n",
       "      <td>0.222510</td>\n",
       "      <td>0.198040</td>\n",
       "      <td>0.121828</td>\n",
       "      <td>0.417519</td>\n",
       "      <td>...</td>\n",
       "      <td>-0.201186</td>\n",
       "      <td>1.653028</td>\n",
       "      <td>-0.262336</td>\n",
       "      <td>-0.278058</td>\n",
       "      <td>0.747130</td>\n",
       "      <td>-0.481941</td>\n",
       "      <td>-0.260873</td>\n",
       "      <td>-0.188195</td>\n",
       "      <td>1.145767</td>\n",
       "      <td>0.872192</td>\n",
       "    </tr>\n",
       "    <tr>\n",
       "      <th>max</th>\n",
       "      <td>1.488552</td>\n",
       "      <td>3.686913</td>\n",
       "      <td>3.685749</td>\n",
       "      <td>11.887363</td>\n",
       "      <td>3.709399</td>\n",
       "      <td>3.412215</td>\n",
       "      <td>4.461131</td>\n",
       "      <td>5.398074</td>\n",
       "      <td>6.250099</td>\n",
       "      <td>6.014297</td>\n",
       "      <td>...</td>\n",
       "      <td>4.967201</td>\n",
       "      <td>1.653028</td>\n",
       "      <td>3.809342</td>\n",
       "      <td>3.593961</td>\n",
       "      <td>0.747130</td>\n",
       "      <td>2.073549</td>\n",
       "      <td>3.830712</td>\n",
       "      <td>5.310061</td>\n",
       "      <td>1.145767</td>\n",
       "      <td>0.872192</td>\n",
       "    </tr>\n",
       "  </tbody>\n",
       "</table>\n",
       "<p>8 rows × 40 columns</p>\n",
       "</div>"
      ],
      "text/plain": [
       "             beds       baths        sqft    lot_size  restaurants  \\\n",
       "count  373.000000  373.000000  373.000000  373.000000   373.000000   \n",
       "mean     0.013888    0.066571    0.058472    0.011183     0.050459   \n",
       "std      0.974312    0.964006    1.004367    0.920528     1.067369   \n",
       "min     -2.246930   -1.659039   -1.286919   -0.349531    -0.859567   \n",
       "25%     -0.379189   -0.589849   -0.681624   -0.303179    -0.708705   \n",
       "50%     -0.379189    0.479342   -0.265243   -0.165977    -0.363877   \n",
       "75%      0.554681    0.479342    0.566747   -0.031388     0.433537   \n",
       "max      1.488552    3.686913    3.685749   11.887363     3.709399   \n",
       "\n",
       "        groceries       cafes    shopping  arts_entertainment  beauty_spas  \\\n",
       "count  373.000000  373.000000  373.000000          373.000000   373.000000   \n",
       "mean    -0.018048    0.019030   -0.025363           -0.017541     0.025821   \n",
       "std      0.965539    1.012606    0.934499            0.972949     1.056038   \n",
       "min     -0.999813   -0.704689   -0.757444           -0.723451    -0.913183   \n",
       "25%     -0.779212   -0.704689   -0.647196           -0.723451    -0.717492   \n",
       "50%     -0.338009   -0.307318   -0.371576           -0.300811    -0.286970   \n",
       "75%      0.544397    0.222510    0.198040            0.121828     0.417519   \n",
       "max      3.412215    4.461131    5.398074            6.250099     6.014297   \n",
       "\n",
       "                  ...               exterior_walls_Other  \\\n",
       "count             ...                         373.000000   \n",
       "mean              ...                          -0.076479   \n",
       "std               ...                           0.794147   \n",
       "min               ...                          -0.201186   \n",
       "25%               ...                          -0.201186   \n",
       "50%               ...                          -0.201186   \n",
       "75%               ...                          -0.201186   \n",
       "max               ...                           4.967201   \n",
       "\n",
       "       exterior_walls_Siding (Alum/Vinyl)  exterior_walls_Wood  roof_Asphalt  \\\n",
       "count                          373.000000           373.000000    373.000000   \n",
       "mean                            -0.017455             0.021480      0.022984   \n",
       "std                              0.991645             1.038243      1.038221   \n",
       "min                             -0.604545            -0.262336     -0.278058   \n",
       "25%                             -0.604545            -0.262336     -0.278058   \n",
       "50%                             -0.604545            -0.262336     -0.278058   \n",
       "75%                              1.653028            -0.262336     -0.278058   \n",
       "max                              1.653028             3.809342      3.593961   \n",
       "\n",
       "       roof_Composition Shingle  roof_Missing  roof_Other  roof_Shake Shingle  \\\n",
       "count                373.000000    373.000000  373.000000          373.000000   \n",
       "mean                   0.031741      0.004492   -0.041485           -0.070270   \n",
       "std                    0.991067      1.004572    0.922928            0.797610   \n",
       "min                   -1.337558     -0.481941   -0.260873           -0.188195   \n",
       "25%                   -1.337558     -0.481941   -0.260873           -0.188195   \n",
       "50%                    0.747130     -0.481941   -0.260873           -0.188195   \n",
       "75%                    0.747130     -0.481941   -0.260873           -0.188195   \n",
       "max                    0.747130      2.073549    3.830712            5.310061   \n",
       "\n",
       "       property_type_Apartment / Condo / Townhouse  \\\n",
       "count                                   373.000000   \n",
       "mean                                     -0.017399   \n",
       "std                                       0.998468   \n",
       "min                                      -0.872192   \n",
       "25%                                      -0.872192   \n",
       "50%                                      -0.872192   \n",
       "75%                                       1.145767   \n",
       "max                                       1.145767   \n",
       "\n",
       "       property_type_Single-Family  \n",
       "count                   373.000000  \n",
       "mean                      0.017399  \n",
       "std                       0.998468  \n",
       "min                      -1.145767  \n",
       "25%                      -1.145767  \n",
       "50%                       0.872192  \n",
       "75%                       0.872192  \n",
       "max                       0.872192  \n",
       "\n",
       "[8 rows x 40 columns]"
      ]
     },
     "execution_count": 12,
     "metadata": {},
     "output_type": "execute_result"
    }
   ],
   "source": [
    "## Check for mean and std dev. - not exactly 0 and 1\n",
    "X_test.describe()"
   ]
  },
  {
   "cell_type": "markdown",
   "metadata": {},
   "source": [
    "##  Model 1 - Baseline Model\n",
    "* In this model, for every test data point, we will simply predict the average of the train labels as the output.\n",
    "* We will use this simple model to perform hypothesis testing for other complex models."
   ]
  },
  {
   "cell_type": "code",
   "execution_count": 13,
   "metadata": {},
   "outputs": [],
   "source": [
    "from sklearn.metrics import r2_score\n",
    "## Predict Train results\n",
    "y_train_pred = np.ones(y_train.shape[0])*y_train.mean()"
   ]
  },
  {
   "cell_type": "code",
   "execution_count": 14,
   "metadata": {},
   "outputs": [],
   "source": [
    "## Predict Test results\n",
    "y_pred = np.ones(y_test.shape[0])*y_train.mean()"
   ]
  },
  {
   "cell_type": "code",
   "execution_count": 15,
   "metadata": {},
   "outputs": [
    {
     "name": "stdout",
     "output_type": "stream",
     "text": [
      "Train Results for Baseline Model:\n",
      "*******************************\n",
      "Root mean squared error:  150783.1184744958\n",
      "R-squared:  0.0\n",
      "Mean Absolute Error:  124203.40401243187\n"
     ]
    }
   ],
   "source": [
    "print(\"Train Results for Baseline Model:\")\n",
    "print(\"*******************************\")\n",
    "print(\"Root mean squared error: \", sqrt(mse(y_train.values, y_train_pred)))\n",
    "print(\"R-squared: \", r2_score(y_train.values, y_train_pred))\n",
    "print(\"Mean Absolute Error: \", mae(y_train.values, y_train_pred))"
   ]
  },
  {
   "cell_type": "code",
   "execution_count": 16,
   "metadata": {},
   "outputs": [
    {
     "name": "stdout",
     "output_type": "stream",
     "text": [
      "Results for Baseline Model:\n",
      "*******************************\n",
      "Root mean squared error:  155873.74482915542\n",
      "R-squared:  -0.029678475594569154\n",
      "Mean Absolute Error:  127022.97405401515\n"
     ]
    }
   ],
   "source": [
    "print(\"Results for Baseline Model:\")\n",
    "print(\"*******************************\")\n",
    "print(\"Root mean squared error: \", sqrt(mse(y_test, y_pred)))\n",
    "print(\"R-squared: \", r2_score(y_test, y_pred))\n",
    "print(\"Mean Absolute Error: \", mae(y_test, y_pred))"
   ]
  },
  {
   "cell_type": "markdown",
   "metadata": {},
   "source": [
    "##  Model-2 Ridge Regression"
   ]
  },
  {
   "cell_type": "code",
   "execution_count": 17,
   "metadata": {},
   "outputs": [
    {
     "data": {
      "text/plain": [
       "GridSearchCV(cv=10, error_score='raise-deprecating',\n",
       "       estimator=Ridge(alpha=1.0, copy_X=True, fit_intercept=True, max_iter=None,\n",
       "   normalize=False, random_state=None, solver='auto', tol=0.001),\n",
       "       fit_params=None, iid='warn', n_jobs=-1,\n",
       "       param_grid={'alpha': [0.0001, 0.001, 0.01, 0.1, 1, 10, 100, 1000, 10000, 100000]},\n",
       "       pre_dispatch='2*n_jobs', refit=True, return_train_score='warn',\n",
       "       scoring='neg_mean_absolute_error', verbose=0)"
      ]
     },
     "execution_count": 17,
     "metadata": {},
     "output_type": "execute_result"
    }
   ],
   "source": [
    "tuned_params = {'alpha': [0.0001, 0.001, 0.01, 0.1, 1, 10, 100, 1000, 10000, 100000]}\n",
    "model = GridSearchCV(Ridge(), tuned_params, scoring = 'neg_mean_absolute_error', cv=10, n_jobs=-1)\n",
    "model.fit(X_train, y_train)"
   ]
  },
  {
   "cell_type": "code",
   "execution_count": 18,
   "metadata": {},
   "outputs": [
    {
     "data": {
      "text/plain": [
       "Ridge(alpha=10, copy_X=True, fit_intercept=True, max_iter=None,\n",
       "   normalize=False, random_state=None, solver='auto', tol=0.001)"
      ]
     },
     "execution_count": 18,
     "metadata": {},
     "output_type": "execute_result"
    }
   ],
   "source": [
    "model.best_estimator_"
   ]
  },
  {
   "cell_type": "code",
   "execution_count": 70,
   "metadata": {},
   "outputs": [],
   "source": [
    "## Predict Train results\n",
    "y_train_pred = model.predict(X_train)"
   ]
  },
  {
   "cell_type": "code",
   "execution_count": 71,
   "metadata": {},
   "outputs": [],
   "source": [
    "## Predict Test results\n",
    "y_pred = model.predict(X_test)"
   ]
  },
  {
   "cell_type": "code",
   "execution_count": 21,
   "metadata": {},
   "outputs": [
    {
     "name": "stdout",
     "output_type": "stream",
     "text": [
      "Train Results for Ridge Regression:\n",
      "*******************************\n",
      "Root mean squared error:  106251.60060914423\n",
      "R-squared:  0.5034471029080058\n",
      "Mean Absolute Error:  82933.33308648862\n"
     ]
    }
   ],
   "source": [
    "print(\"Train Results for Ridge Regression:\")\n",
    "print(\"*******************************\")\n",
    "print(\"Root mean squared error: \", sqrt(mse(y_train.values, y_train_pred)))\n",
    "print(\"R-squared: \", r2_score(y_train.values, y_train_pred))\n",
    "print(\"Mean Absolute Error: \", mae(y_train.values, y_train_pred))"
   ]
  },
  {
   "cell_type": "code",
   "execution_count": 22,
   "metadata": {},
   "outputs": [
    {
     "name": "stdout",
     "output_type": "stream",
     "text": [
      "Test Results for Ridge Regression:\n",
      "*******************************\n",
      "Root mean squared error:  133025.4155558507\n",
      "R-squared:  0.250062718386319\n",
      "Mean Absolute Error:  89428.24457414617\n"
     ]
    }
   ],
   "source": [
    "print(\"Test Results for Ridge Regression:\")\n",
    "print(\"*******************************\")\n",
    "print(\"Root mean squared error: \", sqrt(mse(y_test, y_pred)))\n",
    "print(\"R-squared: \", r2_score(y_test, y_pred))\n",
    "print(\"Mean Absolute Error: \", mae(y_test, y_pred))"
   ]
  },
  {
   "cell_type": "markdown",
   "metadata": {},
   "source": [
    "### Feature Importance"
   ]
  },
  {
   "cell_type": "code",
   "execution_count": 23,
   "metadata": {},
   "outputs": [
    {
     "data": {
      "text/plain": [
       "Ridge(alpha=100, copy_X=True, fit_intercept=True, max_iter=None,\n",
       "   normalize=False, random_state=None, solver='auto', tol=0.001)"
      ]
     },
     "execution_count": 23,
     "metadata": {},
     "output_type": "execute_result"
    }
   ],
   "source": [
    "## Building the model again with the best hyperparameters\n",
    "model = Ridge(alpha=100)\n",
    "model.fit(X_train, y_train)"
   ]
  },
  {
   "cell_type": "code",
   "execution_count": 24,
   "metadata": {},
   "outputs": [
    {
     "name": "stdout",
     "output_type": "stream",
     "text": [
      "The features in order of importance are:\n",
      "--------------------------------------------------\n",
      "tax_and_insurance\n",
      "treasury_1_year_bond\n",
      "s&p_returns\n",
      "consumer_price_index\n",
      "college_grad\n",
      "sqft\n",
      "old_properties\n",
      "beauty_spas\n",
      "baths\n",
      "lot_size\n",
      "exterior_walls_Missing\n",
      "cafes\n",
      "restaurants\n",
      "groceries\n",
      "exterior_walls_Wood\n",
      "exterior_walls_Brick veneer\n",
      "beds\n",
      "property_type_Single-Family\n",
      "property_type_Apartment / Condo / Townhouse\n",
      "property_age\n",
      "active_life\n",
      "exterior_walls_Brick\n",
      "shopping\n",
      "two_and_two\n",
      "exterior_walls_Siding (Alum/Vinyl)\n",
      "during_recession\n",
      "median_age\n",
      "married\n",
      "roof_Shake Shingle\n",
      "median_school\n",
      "roof_Other\n",
      "roof_Missing\n",
      "school_score\n",
      "exterior_walls_Combination\n",
      "num_schools\n",
      "exterior_walls_Other\n",
      "roof_Composition Shingle\n",
      "exterior_walls_Metal\n",
      "roof_Asphalt\n",
      "arts_entertainment\n"
     ]
    }
   ],
   "source": [
    "indices = np.argsort(-abs(model.coef_))\n",
    "print(\"The features in order of importance are:\")\n",
    "print(50*'-')\n",
    "for feature in X.columns[indices]:\n",
    "    print(feature)"
   ]
  },
  {
   "cell_type": "markdown",
   "metadata": {},
   "source": [
    "##  Model-3 Support Vector Regression\n",
    "With an RBF Kernel"
   ]
  },
  {
   "cell_type": "code",
   "execution_count": 25,
   "metadata": {},
   "outputs": [
    {
     "data": {
      "text/plain": [
       "GridSearchCV(cv=5, error_score='raise-deprecating',\n",
       "       estimator=SVR(C=1.0, cache_size=200, coef0=0.0, degree=3, epsilon=0.1,\n",
       "  gamma='auto_deprecated', kernel='rbf', max_iter=-1, shrinking=True,\n",
       "  tol=0.001, verbose=False),\n",
       "       fit_params=None, iid='warn', n_jobs=-1,\n",
       "       param_grid={'C': [0.0001, 0.001, 0.01, 0.1, 1, 10, 100, 1000, 10000, 100000], 'gamma': [0.0001, 0.001, 0.01, 0.1, 1, 10, 100, 1000, 10000, 100000]},\n",
       "       pre_dispatch='2*n_jobs', refit=True, return_train_score='warn',\n",
       "       scoring='neg_mean_absolute_error', verbose=0)"
      ]
     },
     "execution_count": 25,
     "metadata": {},
     "output_type": "execute_result"
    }
   ],
   "source": [
    "tuned_params = {'C': [0.0001, 0.001, 0.01, 0.1, 1, 10, 100, 1000, 10000, 100000], 'gamma': [0.0001, 0.001, 0.01, 0.1, 1, 10, 100, 1000, 10000, 100000]}\n",
    "model = GridSearchCV(SVR(), tuned_params, scoring = 'neg_mean_absolute_error', cv=5, n_jobs=-1)\n",
    "model.fit(X_train, y_train)\n",
    "## This takes around 20 minutes"
   ]
  },
  {
   "cell_type": "code",
   "execution_count": 26,
   "metadata": {},
   "outputs": [
    {
     "data": {
      "text/plain": [
       "SVR(C=100000, cache_size=200, coef0=0.0, degree=3, epsilon=0.1, gamma=0.01,\n",
       "  kernel='rbf', max_iter=-1, shrinking=True, tol=0.001, verbose=False)"
      ]
     },
     "execution_count": 26,
     "metadata": {},
     "output_type": "execute_result"
    }
   ],
   "source": [
    "model.best_estimator_"
   ]
  },
  {
   "cell_type": "code",
   "execution_count": 27,
   "metadata": {},
   "outputs": [
    {
     "data": {
      "text/plain": [
       "SVR(C=100000, cache_size=200, coef0=0.0, degree=3, epsilon=0.1, gamma=0.01,\n",
       "  kernel='rbf', max_iter=-1, shrinking=True, tol=0.001, verbose=False)"
      ]
     },
     "execution_count": 27,
     "metadata": {},
     "output_type": "execute_result"
    }
   ],
   "source": [
    "## Building the model again with the best hyperparameters\n",
    "model = SVR(C=100000, gamma=0.01)\n",
    "model.fit(X_train, y_train)"
   ]
  },
  {
   "cell_type": "code",
   "execution_count": 28,
   "metadata": {},
   "outputs": [],
   "source": [
    "## Predict Train results\n",
    "y_train_pred = model.predict(X_train)"
   ]
  },
  {
   "cell_type": "code",
   "execution_count": 29,
   "metadata": {},
   "outputs": [],
   "source": [
    "## Predict Test results\n",
    "y_pred = model.predict(X_test)"
   ]
  },
  {
   "cell_type": "code",
   "execution_count": 30,
   "metadata": {},
   "outputs": [
    {
     "name": "stdout",
     "output_type": "stream",
     "text": [
      "Train Results for Support Vector Regression:\n",
      "*******************************\n",
      "Root mean squared error:  90252.81454988025\n",
      "R-squared:  0.6417253614690646\n",
      "Mean Absolute Error:  64621.016425028225\n"
     ]
    }
   ],
   "source": [
    "print(\"Train Results for Support Vector Regression:\")\n",
    "print(\"*******************************\")\n",
    "print(\"Root mean squared error: \", sqrt(mse(y_train.values, y_train_pred)))\n",
    "print(\"R-squared: \", r2_score(y_train.values, y_train_pred))\n",
    "print(\"Mean Absolute Error: \", mae(y_train.values, y_train_pred))"
   ]
  },
  {
   "cell_type": "code",
   "execution_count": 31,
   "metadata": {},
   "outputs": [
    {
     "name": "stdout",
     "output_type": "stream",
     "text": [
      "Test Results for Support Vector Regression:\n",
      "*******************************\n",
      "Root mean squared error:  99849.24734531439\n",
      "R-squared:  0.5774819305814685\n",
      "Mean Absolute Error:  74197.50891781115\n"
     ]
    }
   ],
   "source": [
    "print(\"Test Results for Support Vector Regression:\")\n",
    "print(\"*******************************\")\n",
    "print(\"Root mean squared error: \", sqrt(mse(y_test, y_pred)))\n",
    "print(\"R-squared: \", r2_score(y_test, y_pred))\n",
    "print(\"Mean Absolute Error: \", mae(y_test, y_pred))"
   ]
  },
  {
   "cell_type": "markdown",
   "metadata": {},
   "source": [
    "#### Unfortunately getting feature importance from RBF SVM is non trivial"
   ]
  },
  {
   "cell_type": "markdown",
   "metadata": {},
   "source": [
    "## Model-4 Random Forest Regression"
   ]
  },
  {
   "cell_type": "code",
   "execution_count": 32,
   "metadata": {},
   "outputs": [
    {
     "data": {
      "text/plain": [
       "RandomizedSearchCV(cv=5, error_score='raise-deprecating',\n",
       "          estimator=RandomForestRegressor(bootstrap=True, criterion='mse', max_depth=None,\n",
       "           max_features='auto', max_leaf_nodes=None,\n",
       "           min_impurity_decrease=0.0, min_impurity_split=None,\n",
       "           min_samples_leaf=1, min_samples_split=2,\n",
       "           min_weight_fraction_leaf=0.0, n_estimators='warn', n_jobs=None,\n",
       "           oob_score=False, random_state=None, verbose=0, warm_start=False),\n",
       "          fit_params=None, iid='warn', n_iter=20, n_jobs=-1,\n",
       "          param_distributions={'n_estimators': [100, 200, 300, 400, 500], 'min_samples_split': [2, 5, 10], 'min_samples_leaf': [1, 2, 4]},\n",
       "          pre_dispatch='2*n_jobs', random_state=None, refit=True,\n",
       "          return_train_score='warn', scoring='neg_mean_absolute_error',\n",
       "          verbose=0)"
      ]
     },
     "execution_count": 32,
     "metadata": {},
     "output_type": "execute_result"
    }
   ],
   "source": [
    "## Reference for random search on random forest\n",
    "## https://towardsdatascience.com/hyperparameter-tuning-the-random-forest-in-python-using-scikit-learn-28d2aa77dd74\n",
    "tuned_params = {'n_estimators': [100, 200, 300, 400, 500], 'min_samples_split': [2, 5, 10], 'min_samples_leaf': [1, 2, 4]}\n",
    "model = RandomizedSearchCV(RandomForestRegressor(), tuned_params, n_iter=20, scoring = 'neg_mean_absolute_error', cv=5, n_jobs=-1)\n",
    "model.fit(X_train, y_train)\n",
    "## This takes around 15 minutes"
   ]
  },
  {
   "cell_type": "code",
   "execution_count": 33,
   "metadata": {},
   "outputs": [
    {
     "data": {
      "text/plain": [
       "RandomForestRegressor(bootstrap=True, criterion='mse', max_depth=None,\n",
       "           max_features='auto', max_leaf_nodes=None,\n",
       "           min_impurity_decrease=0.0, min_impurity_split=None,\n",
       "           min_samples_leaf=1, min_samples_split=2,\n",
       "           min_weight_fraction_leaf=0.0, n_estimators=400, n_jobs=None,\n",
       "           oob_score=False, random_state=None, verbose=0, warm_start=False)"
      ]
     },
     "execution_count": 33,
     "metadata": {},
     "output_type": "execute_result"
    }
   ],
   "source": [
    "model.best_estimator_"
   ]
  },
  {
   "cell_type": "code",
   "execution_count": 34,
   "metadata": {},
   "outputs": [],
   "source": [
    "## Predict Train results\n",
    "y_train_pred = model.predict(X_train)"
   ]
  },
  {
   "cell_type": "code",
   "execution_count": 35,
   "metadata": {},
   "outputs": [],
   "source": [
    "## Predict Test results\n",
    "y_pred = model.predict(X_test)"
   ]
  },
  {
   "cell_type": "code",
   "execution_count": 36,
   "metadata": {},
   "outputs": [
    {
     "name": "stdout",
     "output_type": "stream",
     "text": [
      "Train Results for Random Forest Regression:\n",
      "*******************************\n",
      "Root mean squared error:  25675.769779985356\n",
      "R-squared:  0.9710037721497643\n",
      "Mean Absolute Error:  18846.251083892617\n"
     ]
    }
   ],
   "source": [
    "print(\"Train Results for Random Forest Regression:\")\n",
    "print(\"*******************************\")\n",
    "print(\"Root mean squared error: \", sqrt(mse(y_train.values, y_train_pred)))\n",
    "print(\"R-squared: \", r2_score(y_train.values, y_train_pred))\n",
    "print(\"Mean Absolute Error: \", mae(y_train.values, y_train_pred))"
   ]
  },
  {
   "cell_type": "code",
   "execution_count": 37,
   "metadata": {},
   "outputs": [
    {
     "name": "stdout",
     "output_type": "stream",
     "text": [
      "Test Results for Random Forest Regression:\n",
      "*******************************\n",
      "Root mean squared error:  70820.565461782\n",
      "R-squared:  0.7874434581922324\n",
      "Mean Absolute Error:  51912.609075067034\n"
     ]
    }
   ],
   "source": [
    "print(\"Test Results for Random Forest Regression:\")\n",
    "print(\"*******************************\")\n",
    "print(\"Root mean squared error: \", sqrt(mse(y_test, y_pred)))\n",
    "print(\"R-squared: \", r2_score(y_test, y_pred))\n",
    "print(\"Mean Absolute Error: \", mae(y_test, y_pred))"
   ]
  },
  {
   "cell_type": "markdown",
   "metadata": {},
   "source": [
    "### Feature Importance"
   ]
  },
  {
   "cell_type": "code",
   "execution_count": 38,
   "metadata": {},
   "outputs": [
    {
     "data": {
      "text/plain": [
       "RandomForestRegressor(bootstrap=True, criterion='mse', max_depth=None,\n",
       "           max_features='auto', max_leaf_nodes=None,\n",
       "           min_impurity_decrease=0.0, min_impurity_split=None,\n",
       "           min_samples_leaf=2, min_samples_split=10,\n",
       "           min_weight_fraction_leaf=0.0, n_estimators=200, n_jobs=None,\n",
       "           oob_score=False, random_state=None, verbose=0, warm_start=False)"
      ]
     },
     "execution_count": 38,
     "metadata": {},
     "output_type": "execute_result"
    }
   ],
   "source": [
    "## Building the model again with the best hyperparameters\n",
    "model = RandomForestRegressor(n_estimators=200, min_samples_split=10, min_samples_leaf=2)\n",
    "model.fit(X_train, y_train)"
   ]
  },
  {
   "cell_type": "code",
   "execution_count": 39,
   "metadata": {},
   "outputs": [
    {
     "name": "stdout",
     "output_type": "stream",
     "text": [
      "The features in order of importance are:\n",
      "--------------------------------------------------\n",
      "tax_and_insurance\n",
      "treasury_1_year_bond\n",
      "consumer_price_index\n",
      "s&p_returns\n",
      "sqft\n",
      "property_age\n",
      "college_grad\n",
      "lot_size\n",
      "median_age\n",
      "active_life\n",
      "married\n",
      "shopping\n",
      "median_school\n",
      "baths\n",
      "restaurants\n",
      "beauty_spas\n",
      "school_score\n",
      "groceries\n",
      "arts_entertainment\n",
      "exterior_walls_Missing\n",
      "cafes\n",
      "old_properties\n",
      "beds\n",
      "roof_Missing\n",
      "exterior_walls_Brick\n",
      "roof_Other\n",
      "roof_Composition Shingle\n",
      "exterior_walls_Siding (Alum/Vinyl)\n",
      "num_schools\n",
      "during_recession\n",
      "roof_Asphalt\n",
      "exterior_walls_Metal\n",
      "exterior_walls_Other\n",
      "roof_Shake Shingle\n",
      "property_type_Apartment / Condo / Townhouse\n",
      "property_type_Single-Family\n",
      "exterior_walls_Brick veneer\n",
      "two_and_two\n",
      "exterior_walls_Combination\n",
      "exterior_walls_Wood\n"
     ]
    }
   ],
   "source": [
    "indices = np.argsort(-model.feature_importances_)\n",
    "print(\"The features in order of importance are:\")\n",
    "print(50*'-')\n",
    "for feature in X.columns[indices]:\n",
    "    print(feature)"
   ]
  },
  {
   "cell_type": "markdown",
   "metadata": {},
   "source": [
    "## Model-5 XGBoost Regression"
   ]
  },
  {
   "cell_type": "code",
   "execution_count": 40,
   "metadata": {},
   "outputs": [
    {
     "data": {
      "text/plain": [
       "RandomizedSearchCV(cv=5, error_score='raise-deprecating',\n",
       "          estimator=XGBRegressor(base_score=0.5, booster='gbtree', colsample_bylevel=1,\n",
       "       colsample_bytree=1, gamma=0, importance_type='gain',\n",
       "       learning_rate=0.1, max_delta_step=0, max_depth=3,\n",
       "       min_child_weight=1, missing=None, n_estimators=100, n_jobs=1,\n",
       "       nthread=None, objective='reg:linear', random_state=0, reg_alpha=0,\n",
       "       reg_lambda=1, scale_pos_weight=1, seed=None, silent=True,\n",
       "       subsample=1),\n",
       "          fit_params=None, iid='warn', n_iter=20, n_jobs=-1,\n",
       "          param_distributions={'max_depth': [1, 2, 3, 4, 5], 'learning_rate': [0.01, 0.05, 0.1], 'n_estimators': [100, 200, 300, 400, 500], 'reg_lambda': [0.001, 0.1, 1.0, 10.0, 100.0]},\n",
       "          pre_dispatch='2*n_jobs', random_state=None, refit=True,\n",
       "          return_train_score='warn', scoring='neg_mean_absolute_error',\n",
       "          verbose=0)"
      ]
     },
     "execution_count": 40,
     "metadata": {},
     "output_type": "execute_result"
    }
   ],
   "source": [
    "## Reference for random search on xgboost\n",
    "## https://gist.github.com/wrwr/3f6b66bf4ee01bf48be965f60d14454d\n",
    "tuned_params = {'max_depth': [1, 2, 3, 4, 5], 'learning_rate': [0.01, 0.05, 0.1], 'n_estimators': [100, 200, 300, 400, 500], 'reg_lambda': [0.001, 0.1, 1.0, 10.0, 100.0]}\n",
    "model = RandomizedSearchCV(XGBRegressor(), tuned_params, n_iter=20, scoring = 'neg_mean_absolute_error', cv=5, n_jobs=-1)\n",
    "model.fit(X_train, y_train)"
   ]
  },
  {
   "cell_type": "code",
   "execution_count": 41,
   "metadata": {},
   "outputs": [
    {
     "data": {
      "text/plain": [
       "XGBRegressor(base_score=0.5, booster='gbtree', colsample_bylevel=1,\n",
       "       colsample_bytree=1, gamma=0, importance_type='gain',\n",
       "       learning_rate=0.05, max_delta_step=0, max_depth=5,\n",
       "       min_child_weight=1, missing=None, n_estimators=200, n_jobs=1,\n",
       "       nthread=None, objective='reg:linear', random_state=0, reg_alpha=0,\n",
       "       reg_lambda=0.001, scale_pos_weight=1, seed=None, silent=True,\n",
       "       subsample=1)"
      ]
     },
     "execution_count": 41,
     "metadata": {},
     "output_type": "execute_result"
    }
   ],
   "source": [
    "model.best_estimator_"
   ]
  },
  {
   "cell_type": "code",
   "execution_count": 42,
   "metadata": {},
   "outputs": [],
   "source": [
    "## Predict Train results\n",
    "y_train_pred = model.predict(X_train)"
   ]
  },
  {
   "cell_type": "code",
   "execution_count": 43,
   "metadata": {},
   "outputs": [],
   "source": [
    "## Predict Test results\n",
    "y_pred = model.predict(X_test)"
   ]
  },
  {
   "cell_type": "code",
   "execution_count": 44,
   "metadata": {},
   "outputs": [
    {
     "name": "stdout",
     "output_type": "stream",
     "text": [
      "Train Results for XGBoost Regression:\n",
      "*******************************\n",
      "Root mean squared error:  29666.031117319406\n",
      "R-squared:  0.9612908661523131\n",
      "Mean Absolute Error:  22572.0700817953\n"
     ]
    }
   ],
   "source": [
    "print(\"Train Results for XGBoost Regression:\")\n",
    "print(\"*******************************\")\n",
    "print(\"Root mean squared error: \", sqrt(mse(y_train.values, y_train_pred)))\n",
    "print(\"R-squared: \", rs(y_train.values, y_train_pred))\n",
    "print(\"Mean Absolute Error: \", mae(y_train.values, y_train_pred))"
   ]
  },
  {
   "cell_type": "code",
   "execution_count": 45,
   "metadata": {},
   "outputs": [
    {
     "name": "stdout",
     "output_type": "stream",
     "text": [
      "Test Results for XGBoost Regression:\n",
      "*******************************\n",
      "Root mean squared error:  70613.82538417575\n",
      "R-squared:  0.7886826410440766\n",
      "Mean Absolute Error:  51943.353007707774\n"
     ]
    }
   ],
   "source": [
    "print(\"Test Results for XGBoost Regression:\")\n",
    "print(\"*******************************\")\n",
    "print(\"Root mean squared error: \", sqrt(mse(y_test, y_pred)))\n",
    "print(\"R-squared: \", r2_score(y_test, y_pred))\n",
    "print(\"Mean Absolute Error: \", mae(y_test, y_pred))"
   ]
  },
  {
   "cell_type": "markdown",
   "metadata": {},
   "source": [
    "### Feature Importance"
   ]
  },
  {
   "cell_type": "code",
   "execution_count": 76,
   "metadata": {},
   "outputs": [
    {
     "data": {
      "text/plain": [
       "XGBRegressor(base_score=0.5, booster='gbtree', colsample_bylevel=1,\n",
       "       colsample_bytree=1, gamma=0, importance_type='gain',\n",
       "       learning_rate=0.05, max_delta_step=0, max_depth=2,\n",
       "       min_child_weight=1, missing=None, n_estimators=400, n_jobs=1,\n",
       "       nthread=None, objective='reg:linear', random_state=0, reg_alpha=0,\n",
       "       reg_lambda=0.001, scale_pos_weight=1, seed=None, silent=True,\n",
       "       subsample=1)"
      ]
     },
     "execution_count": 76,
     "metadata": {},
     "output_type": "execute_result"
    }
   ],
   "source": [
    "## Building the model again with the best hyperparameters\n",
    "model = XGBRegressor(max_depth=2,learning_rate=0.05,n_estimators=400, reg_lambda=0.001)\n",
    "model.fit(X_train, y_train)"
   ]
  },
  {
   "cell_type": "code",
   "execution_count": 77,
   "metadata": {},
   "outputs": [],
   "source": [
    "## Function to include figsize parameter\n",
    "## Reference: https://stackoverflow.com/questions/40081888/xgboost-plot-importance-figure-size\n",
    "def my_plot_importance(booster, figsize, **kwargs): \n",
    "    from matplotlib import pyplot as plt\n",
    "    from xgboost import plot_importance\n",
    "    fig, ax = plt.subplots(1,1,figsize=figsize)\n",
    "    return plot_importance(booster=booster, ax=ax, **kwargs)"
   ]
  },
  {
   "cell_type": "code",
   "execution_count": 78,
   "metadata": {},
   "outputs": [
    {
     "data": {
      "text/plain": [
       "<matplotlib.axes._subplots.AxesSubplot at 0x15c972bbe80>"
      ]
     },
     "execution_count": 78,
     "metadata": {},
     "output_type": "execute_result"
    },
    {
     "data": {
      "image/png": "[encoded data removed]",
      "text/plain": [
       "<Figure size 720x720 with 1 Axes>"
      ]
     },
     "metadata": {
      "needs_background": "light"
     },
     "output_type": "display_data"
    }
   ],
   "source": [
    "my_plot_importance(model, (10,10))\n"
   ]
  },
  {
   "cell_type": "markdown",
   "metadata": {},
   "source": [
    "## Model-6 Lasso Regression"
   ]
  },
  {
   "cell_type": "code",
   "execution_count": 49,
   "metadata": {},
   "outputs": [
    {
     "name": "stderr",
     "output_type": "stream",
     "text": [
      "C:\\Users\\muhli\\Miniconda3\\envs\\pythonData\\lib\\site-packages\\sklearn\\model_selection\\_search.py:841: DeprecationWarning: The default of the `iid` parameter will change from True to False in version 0.22 and will be removed in 0.24. This will change numeric results when test-set sizes are unequal.\n",
      "  DeprecationWarning)\n"
     ]
    },
    {
     "data": {
      "text/plain": [
       "GridSearchCV(cv=20, error_score='raise-deprecating',\n",
       "       estimator=Lasso(alpha=1.0, copy_X=True, fit_intercept=True, max_iter=1000,\n",
       "   normalize=False, positive=False, precompute=False, random_state=None,\n",
       "   selection='cyclic', tol=0.0001, warm_start=False),\n",
       "       fit_params=None, iid='warn', n_jobs=-1,\n",
       "       param_grid={'alpha': [0.0001, 0.001, 0.01, 0.1, 1, 10, 100, 1000, 10000, 100000]},\n",
       "       pre_dispatch='2*n_jobs', refit=True, return_train_score='warn',\n",
       "       scoring='neg_mean_absolute_error', verbose=0)"
      ]
     },
     "execution_count": 49,
     "metadata": {},
     "output_type": "execute_result"
    }
   ],
   "source": [
    "tuned_params = {'alpha': [0.0001, 0.001, 0.01, 0.1, 1, 10, 100, 1000, 10000, 100000]}\n",
    "model = GridSearchCV(Lasso(), tuned_params, scoring = 'neg_mean_absolute_error', cv=20, n_jobs=-1)\n",
    "model.fit(X_train, y_train)"
   ]
  },
  {
   "cell_type": "code",
   "execution_count": 50,
   "metadata": {},
   "outputs": [
    {
     "data": {
      "text/plain": [
       "Lasso(alpha=100, copy_X=True, fit_intercept=True, max_iter=1000,\n",
       "   normalize=False, positive=False, precompute=False, random_state=None,\n",
       "   selection='cyclic', tol=0.0001, warm_start=False)"
      ]
     },
     "execution_count": 50,
     "metadata": {},
     "output_type": "execute_result"
    }
   ],
   "source": [
    "model.best_estimator_"
   ]
  },
  {
   "cell_type": "code",
   "execution_count": 51,
   "metadata": {},
   "outputs": [],
   "source": [
    "## Predict Train results\n",
    "y_train_pred = model.predict(X_train)"
   ]
  },
  {
   "cell_type": "code",
   "execution_count": 52,
   "metadata": {},
   "outputs": [],
   "source": [
    "## Predict Test results\n",
    "y_pred = model.predict(X_test)"
   ]
  },
  {
   "cell_type": "code",
   "execution_count": 53,
   "metadata": {},
   "outputs": [
    {
     "name": "stdout",
     "output_type": "stream",
     "text": [
      "Train Results for Lasso Regression:\n",
      "*******************************\n",
      "Root mean squared error:  106249.09139344805\n",
      "R-squared:  0.5034705556109124\n",
      "Mean Absolute Error:  82879.28410467804\n"
     ]
    }
   ],
   "source": [
    "print(\"Train Results for Lasso Regression:\")\n",
    "print(\"*******************************\")\n",
    "print(\"Root mean squared error: \", sqrt(mse(y_train.values, y_train_pred)))\n",
    "print(\"R-squared: \", rs(y_train.values, y_train_pred))\n",
    "print(\"Mean Absolute Error: \", mae(y_train.values, y_train_pred))"
   ]
  },
  {
   "cell_type": "code",
   "execution_count": 54,
   "metadata": {},
   "outputs": [
    {
     "name": "stdout",
     "output_type": "stream",
     "text": [
      "Test Results for Lasso Regression:\n",
      "*******************************\n",
      "Root mean squared error:  134108.14847289774\n",
      "R-squared:  0.2378051169921359\n",
      "Mean Absolute Error:  89513.92117690612\n"
     ]
    }
   ],
   "source": [
    "print(\"Test Results for Lasso Regression:\")\n",
    "print(\"*******************************\")\n",
    "print(\"Root mean squared error: \", sqrt(mse(y_test, y_pred)))\n",
    "print(\"R-squared: \", rs(y_test, y_pred))\n",
    "print(\"Mean Absolute Error: \", mae(y_test, y_pred))"
   ]
  },
  {
   "cell_type": "markdown",
   "metadata": {},
   "source": [
    "### Feature Importance"
   ]
  },
  {
   "cell_type": "code",
   "execution_count": 55,
   "metadata": {},
   "outputs": [
    {
     "data": {
      "text/plain": [
       "Lasso(alpha=1000, copy_X=True, fit_intercept=True, max_iter=1000,\n",
       "   normalize=False, positive=False, precompute=False, random_state=None,\n",
       "   selection='cyclic', tol=0.0001, warm_start=False)"
      ]
     },
     "execution_count": 55,
     "metadata": {},
     "output_type": "execute_result"
    }
   ],
   "source": [
    "## Building the model again with the best hyperparameters\n",
    "model = Lasso(alpha=1000)\n",
    "model.fit(X_train, y_train)"
   ]
  },
  {
   "cell_type": "code",
   "execution_count": 56,
   "metadata": {},
   "outputs": [
    {
     "name": "stdout",
     "output_type": "stream",
     "text": [
      "The features in order of importance are:\n",
      "--------------------------------------------------\n",
      "tax_and_insurance\n",
      "treasury_1_year_bond\n",
      "s&p_returns\n",
      "consumer_price_index\n",
      "college_grad\n",
      "old_properties\n",
      "sqft\n",
      "property_type_Apartment / Condo / Townhouse\n",
      "beauty_spas\n",
      "restaurants\n",
      "lot_size\n",
      "baths\n",
      "groceries\n",
      "exterior_walls_Wood\n",
      "exterior_walls_Brick veneer\n",
      "exterior_walls_Missing\n",
      "exterior_walls_Brick\n",
      "two_and_two\n",
      "beds\n",
      "during_recession\n",
      "median_school\n",
      "median_age\n",
      "roof_Other\n",
      "roof_Shake Shingle\n",
      "property_age\n",
      "exterior_walls_Siding (Alum/Vinyl)\n",
      "active_life\n",
      "cafes\n",
      "exterior_walls_Other\n",
      "shopping\n",
      "property_type_Single-Family\n",
      "exterior_walls_Metal\n",
      "exterior_walls_Combination\n",
      "arts_entertainment\n",
      "roof_Asphalt\n",
      "roof_Composition Shingle\n",
      "roof_Missing\n",
      "school_score\n",
      "married\n",
      "num_schools\n"
     ]
    }
   ],
   "source": [
    "indices = np.argsort(-abs(model.coef_))\n",
    "print(\"The features in order of importance are:\")\n",
    "print(50*'-')\n",
    "for feature in X.columns[indices]:\n",
    "    print(feature)"
   ]
  },
  {
   "cell_type": "markdown",
   "metadata": {},
   "source": [
    "## Model-7 Descision Tree Regression"
   ]
  },
  {
   "cell_type": "code",
   "execution_count": 57,
   "metadata": {},
   "outputs": [
    {
     "data": {
      "text/plain": [
       "RandomizedSearchCV(cv=10, error_score='raise-deprecating',\n",
       "          estimator=DecisionTreeRegressor(criterion='mse', max_depth=None, max_features=None,\n",
       "           max_leaf_nodes=None, min_impurity_decrease=0.0,\n",
       "           min_impurity_split=None, min_samples_leaf=1,\n",
       "           min_samples_split=2, min_weight_fraction_leaf=0.0,\n",
       "           presort=False, random_state=None, splitter='best'),\n",
       "          fit_params=None, iid='warn', n_iter=20, n_jobs=-1,\n",
       "          param_distributions={'min_samples_split': [2, 3, 4, 5, 7], 'min_samples_leaf': [1, 2, 3, 4, 6], 'max_depth': [2, 3, 4, 5, 6, 7]},\n",
       "          pre_dispatch='2*n_jobs', random_state=None, refit=True,\n",
       "          return_train_score='warn', scoring='neg_mean_absolute_error',\n",
       "          verbose=0)"
      ]
     },
     "execution_count": 57,
     "metadata": {},
     "output_type": "execute_result"
    }
   ],
   "source": [
    "tuned_params = {'min_samples_split': [2, 3, 4, 5, 7], 'min_samples_leaf': [1, 2, 3, 4, 6], 'max_depth': [2, 3, 4, 5, 6, 7]}\n",
    "model = RandomizedSearchCV(DecisionTreeRegressor(), tuned_params, n_iter=20, scoring = 'neg_mean_absolute_error', cv=10, n_jobs=-1)\n",
    "model.fit(X_train, y_train)"
   ]
  },
  {
   "cell_type": "code",
   "execution_count": 58,
   "metadata": {},
   "outputs": [
    {
     "data": {
      "text/plain": [
       "DecisionTreeRegressor(criterion='mse', max_depth=7, max_features=None,\n",
       "           max_leaf_nodes=None, min_impurity_decrease=0.0,\n",
       "           min_impurity_split=None, min_samples_leaf=6,\n",
       "           min_samples_split=5, min_weight_fraction_leaf=0.0,\n",
       "           presort=False, random_state=None, splitter='best')"
      ]
     },
     "execution_count": 58,
     "metadata": {},
     "output_type": "execute_result"
    }
   ],
   "source": [
    "model.best_estimator_"
   ]
  },
  {
   "cell_type": "code",
   "execution_count": 59,
   "metadata": {},
   "outputs": [],
   "source": [
    "## Predict Train results\n",
    "y_train_pred = model.predict(X_train)"
   ]
  },
  {
   "cell_type": "code",
   "execution_count": 60,
   "metadata": {},
   "outputs": [],
   "source": [
    "## Predict Test results\n",
    "y_pred = model.predict(X_test)"
   ]
  },
  {
   "cell_type": "code",
   "execution_count": 61,
   "metadata": {},
   "outputs": [
    {
     "name": "stdout",
     "output_type": "stream",
     "text": [
      "Train Results for Decision Tree Regression:\n",
      "*******************************\n",
      "Root mean squared error:  64188.757491056116\n",
      "R-squared:  0.8187773419753973\n",
      "Mean Absolute Error:  47475.54341627455\n"
     ]
    }
   ],
   "source": [
    "print(\"Train Results for Decision Tree Regression:\")\n",
    "print(\"*******************************\")\n",
    "print(\"Root mean squared error: \", sqrt(mse(y_train.values, y_train_pred)))\n",
    "print(\"R-squared: \", rs(y_train.values, y_train_pred))\n",
    "print(\"Mean Absolute Error: \", mae(y_train.values, y_train_pred))"
   ]
  },
  {
   "cell_type": "code",
   "execution_count": 62,
   "metadata": {},
   "outputs": [
    {
     "name": "stdout",
     "output_type": "stream",
     "text": [
      "Test Results for Decision Tree Regression:\n",
      "*******************************\n",
      "Root mean squared error:  83233.46927543837\n",
      "R-squared:  0.7064029486686448\n",
      "Mean Absolute Error:  61924.68516292056\n"
     ]
    }
   ],
   "source": [
    "print(\"Test Results for Decision Tree Regression:\")\n",
    "print(\"*******************************\")\n",
    "print(\"Root mean squared error: \", sqrt(mse(y_test, y_pred)))\n",
    "print(\"R-squared: \", rs(y_test, y_pred))\n",
    "print(\"Mean Absolute Error: \", mae(y_test, y_pred))"
   ]
  },
  {
   "cell_type": "markdown",
   "metadata": {},
   "source": [
    "## Model-8 KN Regression"
   ]
  },
  {
   "cell_type": "code",
   "execution_count": 63,
   "metadata": {},
   "outputs": [
    {
     "name": "stdout",
     "output_type": "stream",
     "text": [
      "\n",
      "The optimal number of neighbors is 7.\n"
     ]
    }
   ],
   "source": [
    "# creating odd list of K for KNN\n",
    "neighbors = list(range(1,50,2))\n",
    "# empty list that will hold cv scores\n",
    "cv_scores = []\n",
    "\n",
    "# perform 10-fold cross validation\n",
    "for k in neighbors:\n",
    "    knn = KNeighborsRegressor(n_neighbors=k)\n",
    "    scores = cross_val_score(knn, X_train, y_train, cv=10, scoring='neg_mean_absolute_error')\n",
    "    cv_scores.append(scores.mean())\n",
    "\n",
    "# changing to misclassification error\n",
    "MSE = [1 - x for x in cv_scores]\n",
    "\n",
    "# determining best k\n",
    "optimal_k = neighbors[MSE.index(min(MSE))]\n",
    "print('\\nThe optimal number of neighbors is %d.' % optimal_k)"
   ]
  },
  {
   "cell_type": "code",
   "execution_count": 64,
   "metadata": {},
   "outputs": [
    {
     "data": {
      "text/plain": [
       "KNeighborsRegressor(algorithm='auto', leaf_size=30, metric='minkowski',\n",
       "          metric_params=None, n_jobs=None, n_neighbors=7, p=2,\n",
       "          weights='uniform')"
      ]
     },
     "execution_count": 64,
     "metadata": {},
     "output_type": "execute_result"
    }
   ],
   "source": [
    "model = KNeighborsRegressor(n_neighbors = optimal_k)\n",
    "model.fit(X_train, y_train)"
   ]
  },
  {
   "cell_type": "code",
   "execution_count": 65,
   "metadata": {},
   "outputs": [],
   "source": [
    "## Predict Train results\n",
    "y_train_pred = model.predict(X_train)"
   ]
  },
  {
   "cell_type": "code",
   "execution_count": 66,
   "metadata": {},
   "outputs": [],
   "source": [
    "## Predict Test results\n",
    "y_pred = model.predict(X_test)"
   ]
  },
  {
   "cell_type": "code",
   "execution_count": 67,
   "metadata": {},
   "outputs": [
    {
     "name": "stdout",
     "output_type": "stream",
     "text": [
      "Train Results for KN Regression:\n",
      "*******************************\n",
      "Root mean squared error:  104363.72978650536\n",
      "R-squared:  0.520935774074762\n",
      "Mean Absolute Error:  80054.9389261745\n"
     ]
    }
   ],
   "source": [
    "print(\"Train Results for KN Regression:\")\n",
    "print(\"*******************************\")\n",
    "print(\"Root mean squared error: \", sqrt(mse(y_train.values, y_train_pred)))\n",
    "print(\"R-squared: \", rs(y_train.values, y_train_pred))\n",
    "print(\"Mean Absolute Error: \", mae(y_train.values, y_train_pred))"
   ]
  },
  {
   "cell_type": "code",
   "execution_count": 68,
   "metadata": {},
   "outputs": [
    {
     "name": "stdout",
     "output_type": "stream",
     "text": [
      "Test Results for KN Regression:\n",
      "*******************************\n",
      "Root mean squared error:  122805.56863982206\n",
      "R-squared:  0.36086615431653846\n",
      "Mean Absolute Error:  95013.06089620835\n"
     ]
    }
   ],
   "source": [
    "print(\"Test Results for KN Regression:\")\n",
    "print(\"*******************************\")\n",
    "print(\"Root mean squared error: \", sqrt(mse(y_test, y_pred)))\n",
    "print(\"R-squared: \", rs(y_test, y_pred))\n",
    "print(\"Mean Absolute Error: \", mae(y_test, y_pred))"
   ]
  },
  {
   "cell_type": "markdown",
   "metadata": {},
   "source": [
    "## Compare all models"
   ]
  },
  {
   "cell_type": "markdown",
   "metadata": {},
   "source": [
    "![title](Images/result_after.png)\n",
    "\n"
   ]
  },
  {
   "cell_type": "markdown",
   "metadata": {},
   "source": [
    "**From the above table, RMSE, R-squared, MAE for Xgboost Regression and Rendom Forest Regressor are better(i.e RMSE and MAE is least and R-squared is more) than other models so Xgboost is the winning Model**"
   ]
  },
  {
   "cell_type": "markdown",
   "metadata": {},
   "source": [
    "# Save the winning model to disk"
   ]
  },
  {
   "cell_type": "code",
   "execution_count": 69,
   "metadata": {},
   "outputs": [],
   "source": [
    "win_model = RandomForestRegressor(n_estimators=200, min_samples_split=10, min_samples_leaf=2)\n",
    "win_model.fit(X_train, y_train)\n",
    "with open('rfr_real_estate.pkl', 'wb') as pickle_file:\n",
    "       joblib.dump(win_model, 'rfr_real_estate.pkl') "
   ]
  },
  {
   "cell_type": "code",
   "execution_count": null,
   "metadata": {},
   "outputs": [],
   "source": []
  }
 ],
 "metadata": {
  "kernelspec": {
   "display_name": "pythonData",
   "language": "python",
   "name": "pythondata"
  },
  "language_info": {
   "codemirror_mode": {
    "name": "ipython",
    "version": 3
   },
   "file_extension": ".py",
   "mimetype": "text/x-python",
   "name": "python",
   "nbconvert_exporter": "python",
   "pygments_lexer": "ipython3",
   "version": "3.7.1"
  }
 },
 "nbformat": 4,
 "nbformat_minor": 2
}
